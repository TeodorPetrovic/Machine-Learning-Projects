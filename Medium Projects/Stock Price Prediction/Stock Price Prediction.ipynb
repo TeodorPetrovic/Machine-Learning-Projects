{
 "cells": [
  {
   "cell_type": "code",
   "execution_count": 13,
   "metadata": {},
   "outputs": [],
   "source": [
    "import numpy as np\n",
    "import pandas as pd\n",
    "from sklearn import preprocessing\n",
    "from sklearn.model_selection import train_test_split\n",
    "from sklearn.linear_model import LinearRegression"
   ]
  },
  {
   "cell_type": "code",
   "execution_count": 14,
   "metadata": {},
   "outputs": [],
   "source": [
    "#Priprema podataka za trening i analizu\n",
    "def prepare_data(df, forecast_col, forecast_out, test_size):\n",
    "    label = df[forecast_col].shift(-forecast_out) #creating new column called label with the last 5 rows are nan\n",
    "    X = np.array(df[[forecast_col]]) #Creating the feature array\n",
    "    X = preprocessing.scale(X) #Procesing the feature array\n",
    "    X_lately = X[-forecast_out:] #Creating the column i want to use later in the predicting method\n",
    "    X = X[:-forecast_out] #X that will containg training and testing\n",
    "    label.dropna(inplace = True) # Droping na values\n",
    "    y = np.array(label) # Assigning Y\n",
    "    X_train, X_test, Y_train, Y_test = train_test_split(X, y, test_size=test_size, random_state=0) # Cross validation\n",
    "\n",
    "    response = [X_train, X_test, Y_train, Y_test, X_lately]\n",
    "    return response"
   ]
  },
  {
   "cell_type": "code",
   "execution_count": 15,
   "metadata": {},
   "outputs": [],
   "source": [
    "#Ucitavanje nekih parametara da obradimo\n",
    "df = pd.read_csv(\"BTC-USD.csv\")\n",
    "#df = df[df.symbol == \"GOOG\"]"
   ]
  },
  {
   "cell_type": "code",
   "execution_count": 16,
   "metadata": {},
   "outputs": [
    {
     "data": {
      "text/html": [
       "<div>\n",
       "<style scoped>\n",
       "    .dataframe tbody tr th:only-of-type {\n",
       "        vertical-align: middle;\n",
       "    }\n",
       "\n",
       "    .dataframe tbody tr th {\n",
       "        vertical-align: top;\n",
       "    }\n",
       "\n",
       "    .dataframe thead th {\n",
       "        text-align: right;\n",
       "    }\n",
       "</style>\n",
       "<table border=\"1\" class=\"dataframe\">\n",
       "  <thead>\n",
       "    <tr style=\"text-align: right;\">\n",
       "      <th></th>\n",
       "      <th>Date</th>\n",
       "      <th>Open</th>\n",
       "      <th>High</th>\n",
       "      <th>Low</th>\n",
       "      <th>Close</th>\n",
       "      <th>Adj Close</th>\n",
       "      <th>Volume</th>\n",
       "    </tr>\n",
       "  </thead>\n",
       "  <tbody>\n",
       "    <tr>\n",
       "      <th>0</th>\n",
       "      <td>2021-01-06</td>\n",
       "      <td>0.000396</td>\n",
       "      <td>0.000430</td>\n",
       "      <td>0.000390</td>\n",
       "      <td>0.000430</td>\n",
       "      <td>0.000430</td>\n",
       "      <td>0</td>\n",
       "    </tr>\n",
       "    <tr>\n",
       "      <th>1</th>\n",
       "      <td>2021-01-07</td>\n",
       "      <td>0.000429</td>\n",
       "      <td>0.000464</td>\n",
       "      <td>0.000425</td>\n",
       "      <td>0.000458</td>\n",
       "      <td>0.000458</td>\n",
       "      <td>0</td>\n",
       "    </tr>\n",
       "    <tr>\n",
       "      <th>2</th>\n",
       "      <td>2021-01-08</td>\n",
       "      <td>0.000459</td>\n",
       "      <td>0.000489</td>\n",
       "      <td>0.000429</td>\n",
       "      <td>0.000476</td>\n",
       "      <td>0.000476</td>\n",
       "      <td>0</td>\n",
       "    </tr>\n",
       "    <tr>\n",
       "      <th>3</th>\n",
       "      <td>2021-01-09</td>\n",
       "      <td>0.000475</td>\n",
       "      <td>0.000483</td>\n",
       "      <td>0.000454</td>\n",
       "      <td>0.000469</td>\n",
       "      <td>0.000469</td>\n",
       "      <td>0</td>\n",
       "    </tr>\n",
       "    <tr>\n",
       "      <th>4</th>\n",
       "      <td>2021-01-10</td>\n",
       "      <td>0.000469</td>\n",
       "      <td>0.000483</td>\n",
       "      <td>0.000419</td>\n",
       "      <td>0.000447</td>\n",
       "      <td>0.000447</td>\n",
       "      <td>0</td>\n",
       "    </tr>\n",
       "    <tr>\n",
       "      <th>...</th>\n",
       "      <td>...</td>\n",
       "      <td>...</td>\n",
       "      <td>...</td>\n",
       "      <td>...</td>\n",
       "      <td>...</td>\n",
       "      <td>...</td>\n",
       "      <td>...</td>\n",
       "    </tr>\n",
       "    <tr>\n",
       "      <th>361</th>\n",
       "      <td>2022-01-02</td>\n",
       "      <td>0.000634</td>\n",
       "      <td>0.000637</td>\n",
       "      <td>0.000623</td>\n",
       "      <td>0.000630</td>\n",
       "      <td>0.000630</td>\n",
       "      <td>0</td>\n",
       "    </tr>\n",
       "    <tr>\n",
       "      <th>362</th>\n",
       "      <td>2022-01-03</td>\n",
       "      <td>0.000630</td>\n",
       "      <td>0.000632</td>\n",
       "      <td>0.000610</td>\n",
       "      <td>0.000618</td>\n",
       "      <td>0.000618</td>\n",
       "      <td>0</td>\n",
       "    </tr>\n",
       "    <tr>\n",
       "      <th>363</th>\n",
       "      <td>2022-01-04</td>\n",
       "      <td>0.000618</td>\n",
       "      <td>0.000631</td>\n",
       "      <td>0.000609</td>\n",
       "      <td>0.000610</td>\n",
       "      <td>0.000610</td>\n",
       "      <td>0</td>\n",
       "    </tr>\n",
       "    <tr>\n",
       "      <th>364</th>\n",
       "      <td>2022-01-05</td>\n",
       "      <td>0.000610</td>\n",
       "      <td>0.000624</td>\n",
       "      <td>0.000569</td>\n",
       "      <td>0.000579</td>\n",
       "      <td>0.000579</td>\n",
       "      <td>0</td>\n",
       "    </tr>\n",
       "    <tr>\n",
       "      <th>365</th>\n",
       "      <td>2022-01-06</td>\n",
       "      <td>0.000578</td>\n",
       "      <td>0.000582</td>\n",
       "      <td>0.000567</td>\n",
       "      <td>0.000571</td>\n",
       "      <td>0.000571</td>\n",
       "      <td>0</td>\n",
       "    </tr>\n",
       "  </tbody>\n",
       "</table>\n",
       "<p>366 rows × 7 columns</p>\n",
       "</div>"
      ],
      "text/plain": [
       "           Date      Open      High       Low     Close  Adj Close  Volume\n",
       "0    2021-01-06  0.000396  0.000430  0.000390  0.000430   0.000430       0\n",
       "1    2021-01-07  0.000429  0.000464  0.000425  0.000458   0.000458       0\n",
       "2    2021-01-08  0.000459  0.000489  0.000429  0.000476   0.000476       0\n",
       "3    2021-01-09  0.000475  0.000483  0.000454  0.000469   0.000469       0\n",
       "4    2021-01-10  0.000469  0.000483  0.000419  0.000447   0.000447       0\n",
       "..          ...       ...       ...       ...       ...        ...     ...\n",
       "361  2022-01-02  0.000634  0.000637  0.000623  0.000630   0.000630       0\n",
       "362  2022-01-03  0.000630  0.000632  0.000610  0.000618   0.000618       0\n",
       "363  2022-01-04  0.000618  0.000631  0.000609  0.000610   0.000610       0\n",
       "364  2022-01-05  0.000610  0.000624  0.000569  0.000579   0.000579       0\n",
       "365  2022-01-06  0.000578  0.000582  0.000567  0.000571   0.000571       0\n",
       "\n",
       "[366 rows x 7 columns]"
      ]
     },
     "execution_count": 16,
     "metadata": {},
     "output_type": "execute_result"
    }
   ],
   "source": [
    "df"
   ]
  },
  {
   "cell_type": "code",
   "execution_count": 17,
   "metadata": {},
   "outputs": [],
   "source": [
    "#Dodatni parametri\n",
    "forecast_col = 'Close' # Na osnovu koje kolone da se vrsi trening \n",
    "forecast_out = 5\n",
    "test_size = 0.2"
   ]
  },
  {
   "cell_type": "code",
   "execution_count": 18,
   "metadata": {},
   "outputs": [
    {
     "data": {
      "text/plain": [
       "LinearRegression()"
      ]
     },
     "execution_count": 18,
     "metadata": {},
     "output_type": "execute_result"
    }
   ],
   "source": [
    "#calling the method were the cross validation and data preperation is in\n",
    "X_train, X_test, Y_train, Y_test , X_lately = prepare_data(df,forecast_col,forecast_out,test_size)\n",
    "\n",
    "#initializing linear regression model\n",
    "model = LinearRegression()\n",
    "\n",
    "#training the linear regression model\n",
    "model.fit(X_train,Y_train)"
   ]
  },
  {
   "cell_type": "code",
   "execution_count": 34,
   "metadata": {},
   "outputs": [
    {
     "name": "stdout",
     "output_type": "stream",
     "text": [
      "{'Accuracy': 0.773937920049663, 'forecast_set': array([0.00062106, 0.00060998, 0.00060258, 0.00057394, 0.00056655])}\n"
     ]
    }
   ],
   "source": [
    "#Sada radimo predikciju na nasem skupu\n",
    "score = model.score(X_test, Y_test) #Testiramo linearnu regresiju\n",
    "forecast = model.predict(X_lately)\n",
    "response = {} #Kreiramo JSON objecat\n",
    "response['Accuracy'] = score\n",
    "response['forecast_set'] = forecast\n",
    "\n",
    "print(response)"
   ]
  }
 ],
 "metadata": {
  "interpreter": {
   "hash": "018610bf0173d81837d7f119329085b6b95de8057993cbd74162a07af92a39d0"
  },
  "kernelspec": {
   "display_name": "Python 3.9.4 64-bit",
   "language": "python",
   "name": "python3"
  },
  "language_info": {
   "codemirror_mode": {
    "name": "ipython",
    "version": 3
   },
   "file_extension": ".py",
   "mimetype": "text/x-python",
   "name": "python",
   "nbconvert_exporter": "python",
   "pygments_lexer": "ipython3",
   "version": "3.9.4"
  },
  "orig_nbformat": 4
 },
 "nbformat": 4,
 "nbformat_minor": 2
}
