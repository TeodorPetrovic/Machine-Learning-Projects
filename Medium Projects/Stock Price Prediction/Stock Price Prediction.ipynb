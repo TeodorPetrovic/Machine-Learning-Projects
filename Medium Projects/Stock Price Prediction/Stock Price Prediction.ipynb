{
 "cells": [
  {
   "cell_type": "code",
   "execution_count": 35,
   "metadata": {},
   "outputs": [],
   "source": [
    "import numpy as np\n",
    "import pandas as pd\n",
    "from sklearn import preprocessing\n",
    "from sklearn.model_selection import train_test_split\n",
    "from sklearn.linear_model import LinearRegression"
   ]
  },
  {
   "cell_type": "code",
   "execution_count": 36,
   "metadata": {},
   "outputs": [],
   "source": [
    "#Priprema podataka za trening i analizu\n",
    "def prepare_data(df, forecast_col, forecast_out, test_size):\n",
    "    label = df[forecast_col].shift(-forecast_out) #creating new column called label with the last 5 rows are nan\n",
    "    X = np.array(df[[forecast_col]]) #Creating the feature array\n",
    "    X = preprocessing.scale(X) #Procesing the feature array\n",
    "    X_lately = X[-forecast_out:] #Creating the column i want to use later in the predicting method\n",
    "    X = X[:-forecast_out] #X that will containg training and testing\n",
    "    label.dropna(inplace = True) # Droping na values\n",
    "    y = np.array(label) # Assigning Y\n",
    "    X_train, X_test, Y_train, Y_test = train_test_split(X, y, test_size=test_size, random_state=0) # Cross validation\n",
    "\n",
    "    response = [X_train, X_test, Y_train, Y_test, X_lately]\n",
    "    return response"
   ]
  },
  {
   "cell_type": "code",
   "execution_count": 37,
   "metadata": {},
   "outputs": [],
   "source": [
    "#Ucitavanje nekih parametara da obradimo\n",
    "df = pd.read_csv(\"BTC-USD.csv\")\n",
    "#df = df[df.symbol == \"GOOG\"]"
   ]
  },
  {
   "cell_type": "code",
   "execution_count": 38,
   "metadata": {},
   "outputs": [
    {
     "data": {
      "text/html": [
       "<div>\n",
       "<style scoped>\n",
       "    .dataframe tbody tr th:only-of-type {\n",
       "        vertical-align: middle;\n",
       "    }\n",
       "\n",
       "    .dataframe tbody tr th {\n",
       "        vertical-align: top;\n",
       "    }\n",
       "\n",
       "    .dataframe thead th {\n",
       "        text-align: right;\n",
       "    }\n",
       "</style>\n",
       "<table border=\"1\" class=\"dataframe\">\n",
       "  <thead>\n",
       "    <tr style=\"text-align: right;\">\n",
       "      <th></th>\n",
       "      <th>Date</th>\n",
       "      <th>Open</th>\n",
       "      <th>High</th>\n",
       "      <th>Low</th>\n",
       "      <th>Close</th>\n",
       "      <th>Adj Close</th>\n",
       "      <th>Volume</th>\n",
       "    </tr>\n",
       "  </thead>\n",
       "  <tbody>\n",
       "    <tr>\n",
       "      <th>0</th>\n",
       "      <td>2021-01-06</td>\n",
       "      <td>34013.613281</td>\n",
       "      <td>36879.699219</td>\n",
       "      <td>33514.035156</td>\n",
       "      <td>36824.363281</td>\n",
       "      <td>36824.363281</td>\n",
       "      <td>75289433811</td>\n",
       "    </tr>\n",
       "    <tr>\n",
       "      <th>1</th>\n",
       "      <td>2021-01-07</td>\n",
       "      <td>36833.875000</td>\n",
       "      <td>40180.367188</td>\n",
       "      <td>36491.191406</td>\n",
       "      <td>39371.042969</td>\n",
       "      <td>39371.042969</td>\n",
       "      <td>84762141031</td>\n",
       "    </tr>\n",
       "    <tr>\n",
       "      <th>2</th>\n",
       "      <td>2021-01-08</td>\n",
       "      <td>39381.765625</td>\n",
       "      <td>41946.738281</td>\n",
       "      <td>36838.636719</td>\n",
       "      <td>40797.609375</td>\n",
       "      <td>40797.609375</td>\n",
       "      <td>88107519480</td>\n",
       "    </tr>\n",
       "    <tr>\n",
       "      <th>3</th>\n",
       "      <td>2021-01-09</td>\n",
       "      <td>40788.640625</td>\n",
       "      <td>41436.351563</td>\n",
       "      <td>38980.875000</td>\n",
       "      <td>40254.546875</td>\n",
       "      <td>40254.546875</td>\n",
       "      <td>61984162837</td>\n",
       "    </tr>\n",
       "    <tr>\n",
       "      <th>4</th>\n",
       "      <td>2021-01-10</td>\n",
       "      <td>40254.218750</td>\n",
       "      <td>41420.191406</td>\n",
       "      <td>35984.628906</td>\n",
       "      <td>38356.441406</td>\n",
       "      <td>38356.441406</td>\n",
       "      <td>79980747690</td>\n",
       "    </tr>\n",
       "    <tr>\n",
       "      <th>...</th>\n",
       "      <td>...</td>\n",
       "      <td>...</td>\n",
       "      <td>...</td>\n",
       "      <td>...</td>\n",
       "      <td>...</td>\n",
       "      <td>...</td>\n",
       "      <td>...</td>\n",
       "    </tr>\n",
       "    <tr>\n",
       "      <th>361</th>\n",
       "      <td>2022-01-02</td>\n",
       "      <td>47680.925781</td>\n",
       "      <td>47881.406250</td>\n",
       "      <td>46856.937500</td>\n",
       "      <td>47345.218750</td>\n",
       "      <td>47345.218750</td>\n",
       "      <td>27951569547</td>\n",
       "    </tr>\n",
       "    <tr>\n",
       "      <th>362</th>\n",
       "      <td>2022-01-03</td>\n",
       "      <td>47343.542969</td>\n",
       "      <td>47510.726563</td>\n",
       "      <td>45835.964844</td>\n",
       "      <td>46458.117188</td>\n",
       "      <td>46458.117188</td>\n",
       "      <td>33071628362</td>\n",
       "    </tr>\n",
       "    <tr>\n",
       "      <th>363</th>\n",
       "      <td>2022-01-04</td>\n",
       "      <td>46458.851563</td>\n",
       "      <td>47406.546875</td>\n",
       "      <td>45752.464844</td>\n",
       "      <td>45897.574219</td>\n",
       "      <td>45897.574219</td>\n",
       "      <td>42494677905</td>\n",
       "    </tr>\n",
       "    <tr>\n",
       "      <th>364</th>\n",
       "      <td>2022-01-05</td>\n",
       "      <td>45899.359375</td>\n",
       "      <td>46929.046875</td>\n",
       "      <td>42798.222656</td>\n",
       "      <td>43569.003906</td>\n",
       "      <td>43569.003906</td>\n",
       "      <td>36851084859</td>\n",
       "    </tr>\n",
       "    <tr>\n",
       "      <th>365</th>\n",
       "      <td>2022-01-06</td>\n",
       "      <td>43429.031250</td>\n",
       "      <td>43745.097656</td>\n",
       "      <td>42645.539063</td>\n",
       "      <td>42906.261719</td>\n",
       "      <td>42906.261719</td>\n",
       "      <td>41253867520</td>\n",
       "    </tr>\n",
       "  </tbody>\n",
       "</table>\n",
       "<p>366 rows × 7 columns</p>\n",
       "</div>"
      ],
      "text/plain": [
       "           Date          Open          High           Low         Close  \\\n",
       "0    2021-01-06  34013.613281  36879.699219  33514.035156  36824.363281   \n",
       "1    2021-01-07  36833.875000  40180.367188  36491.191406  39371.042969   \n",
       "2    2021-01-08  39381.765625  41946.738281  36838.636719  40797.609375   \n",
       "3    2021-01-09  40788.640625  41436.351563  38980.875000  40254.546875   \n",
       "4    2021-01-10  40254.218750  41420.191406  35984.628906  38356.441406   \n",
       "..          ...           ...           ...           ...           ...   \n",
       "361  2022-01-02  47680.925781  47881.406250  46856.937500  47345.218750   \n",
       "362  2022-01-03  47343.542969  47510.726563  45835.964844  46458.117188   \n",
       "363  2022-01-04  46458.851563  47406.546875  45752.464844  45897.574219   \n",
       "364  2022-01-05  45899.359375  46929.046875  42798.222656  43569.003906   \n",
       "365  2022-01-06  43429.031250  43745.097656  42645.539063  42906.261719   \n",
       "\n",
       "        Adj Close       Volume  \n",
       "0    36824.363281  75289433811  \n",
       "1    39371.042969  84762141031  \n",
       "2    40797.609375  88107519480  \n",
       "3    40254.546875  61984162837  \n",
       "4    38356.441406  79980747690  \n",
       "..            ...          ...  \n",
       "361  47345.218750  27951569547  \n",
       "362  46458.117188  33071628362  \n",
       "363  45897.574219  42494677905  \n",
       "364  43569.003906  36851084859  \n",
       "365  42906.261719  41253867520  \n",
       "\n",
       "[366 rows x 7 columns]"
      ]
     },
     "execution_count": 38,
     "metadata": {},
     "output_type": "execute_result"
    }
   ],
   "source": [
    "df"
   ]
  },
  {
   "cell_type": "code",
   "execution_count": 39,
   "metadata": {},
   "outputs": [],
   "source": [
    "#Dodatni parametri\n",
    "forecast_col = 'Close' # Na osnovu koje kolone da se vrsi trening \n",
    "forecast_out = 5\n",
    "test_size = 0.2"
   ]
  },
  {
   "cell_type": "code",
   "execution_count": 40,
   "metadata": {},
   "outputs": [
    {
     "data": {
      "text/plain": [
       "LinearRegression()"
      ]
     },
     "execution_count": 40,
     "metadata": {},
     "output_type": "execute_result"
    }
   ],
   "source": [
    "#calling the method were the cross validation and data preperation is in\n",
    "X_train, X_test, Y_train, Y_test , X_lately = prepare_data(df,forecast_col,forecast_out,test_size)\n",
    "\n",
    "#initializing linear regression model\n",
    "model = LinearRegression()\n",
    "\n",
    "#training the linear regression model\n",
    "model.fit(X_train,Y_train)"
   ]
  },
  {
   "cell_type": "code",
   "execution_count": 41,
   "metadata": {},
   "outputs": [
    {
     "name": "stdout",
     "output_type": "stream",
     "text": [
      "{'Accuracy': 0.8445738068444266, 'forecast_set': array([47288.81286033, 46479.42208   , 45967.98310782, 43843.39735188,\n",
      "       43238.7118921 ])}\n"
     ]
    }
   ],
   "source": [
    "#Sada radimo predikciju na nasem skupu\n",
    "score = model.score(X_test, Y_test) #Testiramo linearnu regresiju\n",
    "forecast = model.predict(X_lately)\n",
    "response = {} #Kreiramo JSON objecat\n",
    "response['Accuracy'] = score\n",
    "response['forecast_set'] = forecast\n",
    "\n",
    "print(response)"
   ]
  }
 ],
 "metadata": {
  "interpreter": {
   "hash": "018610bf0173d81837d7f119329085b6b95de8057993cbd74162a07af92a39d0"
  },
  "kernelspec": {
   "display_name": "Python 3.9.4 64-bit",
   "language": "python",
   "name": "python3"
  },
  "language_info": {
   "codemirror_mode": {
    "name": "ipython",
    "version": 3
   },
   "file_extension": ".py",
   "mimetype": "text/x-python",
   "name": "python",
   "nbconvert_exporter": "python",
   "pygments_lexer": "ipython3",
   "version": "3.9.4"
  },
  "orig_nbformat": 4
 },
 "nbformat": 4,
 "nbformat_minor": 2
}
