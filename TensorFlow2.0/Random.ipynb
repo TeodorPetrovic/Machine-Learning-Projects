{
    "cells": [
        {
            "cell_type": "code",
            "execution_count": null,
            "metadata": {},
            "outputs": [],
            "source": [
                "print(\"Hello\")"
            ]
        },
        {
            "cell_type": "code",
            "execution_count": null,
            "metadata": {},
            "outputs": [],
            "source": [
                "import tensorflow as tf\n",
                "print(tf.version)"
            ]
        },
        {
            "cell_type": "code",
            "execution_count": null,
            "metadata": {},
            "outputs": [],
            "source": [
                "string = tf.Variable(\"This is a string\", tf.string)\n",
                "string"
            ]
        },
        {
            "cell_type": "code",
            "execution_count": null,
            "metadata": {},
            "outputs": [],
            "source": [
                "tensor1 = tf.ones([1,2,3])\n",
                "print(tensor1)\n",
                "tensor2 = tf.reshape(tensor1, [2,3,1])\n",
                "print(tensor2)\n",
                "tensor3 = tf.reshape(tensor2, [3,-1])\n",
                "print(tensor3)"
            ]
        },
        {
            "cell_type": "code",
            "execution_count": null,
            "metadata": {},
            "outputs": [],
            "source": [
                "print(\"Git provera\")"
            ]
        },
        {
            "cell_type": "code",
            "execution_count": null,
            "metadata": {},
            "outputs": [],
            "source": [
                "print(\"Ovo je drugi branch\")"
            ]
        },
        {
            "cell_type": "code",
            "execution_count": null,
            "metadata": {},
            "outputs": [],
            "source": [
                "string = tf.Variable(\"True\", tf.string)\n",
                "\n",
                "tf.rank(string)"
            ]
        },
        {
            "cell_type": "code",
            "execution_count": null,
            "metadata": {},
            "outputs": [],
            "source": [
                "rank1_tensor = tf.Variable([\"Test\", \"Ok\"], tf.string)\n",
                "tf.rank(rank1_tensor)"
            ]
        },
        {
            "cell_type": "code",
            "execution_count": null,
            "metadata": {},
            "outputs": [],
            "source": [
                "t = tf.zeros([5,5,5,5])\n",
                "print(t)\n",
                "t = tf.reshape(t, [125, -1])\n",
                "print(t)"
            ]
        }
    ],
    "metadata": {
        "interpreter": {
            "hash": "018610bf0173d81837d7f119329085b6b95de8057993cbd74162a07af92a39d0"
        },
        "kernelspec": {
            "display_name": "Python 3.9.4 64-bit",
            "name": "python3"
        },
        "language_info": {
            "codemirror_mode": {
                "name": "ipython",
                "version": 3
            },
            "file_extension": ".py",
            "mimetype": "text/x-python",
            "name": "python",
            "nbconvert_exporter": "python",
            "pygments_lexer": "ipython3",
            "version": "3.9.4"
        },
        "orig_nbformat": 4
    },
    "nbformat": 4,
    "nbformat_minor": 2
}
