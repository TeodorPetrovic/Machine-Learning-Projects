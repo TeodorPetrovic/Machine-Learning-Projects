{
    "cells": [
        {
            "cell_type": "code",
            "execution_count": 1,
            "source": [
                "print(\"Hello\")"
            ],
            "outputs": [
                {
                    "output_type": "stream",
                    "name": "stdout",
                    "text": [
                        "Hello\n"
                    ]
                }
            ],
            "metadata": {}
        },
        {
            "cell_type": "code",
            "execution_count": 5,
            "source": [
                "import tensorflow as tf\r\n",
                "print(tf.version)"
            ],
            "outputs": [
                {
                    "output_type": "stream",
                    "name": "stdout",
                    "text": [
                        "<module 'tensorflow._api.v2.version' from 'C:\\\\Users\\\\Teodor Petrovic\\\\AppData\\\\Local\\\\Programs\\\\Python\\\\Python39\\\\lib\\\\site-packages\\\\tensorflow\\\\_api\\\\v2\\\\version\\\\__init__.py'>\n"
                    ]
                }
            ],
            "metadata": {}
        },
        {
            "cell_type": "code",
            "execution_count": 7,
            "source": [
                "string = tf.Variable(\"This is a string\", tf.string)\r\n",
                "string"
            ],
            "outputs": [
                {
                    "output_type": "execute_result",
                    "data": {
                        "text/plain": [
                            "<tf.Variable 'Variable:0' shape=() dtype=string, numpy=b'This is a string'>"
                        ]
                    },
                    "metadata": {},
                    "execution_count": 7
                }
            ],
            "metadata": {}
        },
        {
            "cell_type": "code",
            "execution_count": 8,
            "source": [
                "tensor1 = tf.ones([1,2,3])\r\n",
                "print(tensor1)\r\n",
                "tensor2 = tf.reshape(tensor1, [2,3,1])\r\n",
                "print(tensor2)\r\n",
                "tensor3 = tf.reshape(tensor2, [3,-1])\r\n",
                "print(tensor3)"
            ],
            "outputs": [
                {
                    "output_type": "stream",
                    "name": "stdout",
                    "text": [
                        "tf.Tensor(\n",
                        "[[[1. 1. 1.]\n",
                        "  [1. 1. 1.]]], shape=(1, 2, 3), dtype=float32)\n",
                        "tf.Tensor(\n",
                        "[[[1.]\n",
                        "  [1.]\n",
                        "  [1.]]\n",
                        "\n",
                        " [[1.]\n",
                        "  [1.]\n",
                        "  [1.]]], shape=(2, 3, 1), dtype=float32)\n",
                        "tf.Tensor(\n",
                        "[[1. 1.]\n",
                        " [1. 1.]\n",
                        " [1. 1.]], shape=(3, 2), dtype=float32)\n"
                    ]
                }
            ],
            "metadata": {}
        },
        {
            "cell_type": "code",
            "execution_count": null,
            "source": [],
            "outputs": [],
            "metadata": {}
        }
    ],
    "metadata": {
        "orig_nbformat": 4,
        "language_info": {
            "name": "python",
            "version": "3.9.4",
            "mimetype": "text/x-python",
            "codemirror_mode": {
                "name": "ipython",
                "version": 3
            },
            "pygments_lexer": "ipython3",
            "nbconvert_exporter": "python",
            "file_extension": ".py"
        },
        "kernelspec": {
            "name": "python3",
            "display_name": "Python 3.9.4 64-bit"
        },
        "interpreter": {
            "hash": "018610bf0173d81837d7f119329085b6b95de8057993cbd74162a07af92a39d0"
        }
    },
    "nbformat": 4,
    "nbformat_minor": 2
}