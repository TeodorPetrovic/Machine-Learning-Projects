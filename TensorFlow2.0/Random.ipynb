{
    "cells": [
        {
            "cell_type": "code",
            "execution_count": 1,
            "metadata": {},
            "outputs": [
                {
                    "name": "stdout",
                    "output_type": "stream",
                    "text": [
                        "Hello\n"
                    ]
                }
            ],
            "source": [
                "print(\"Hello\")"
            ]
        },
        {
            "cell_type": "code",
            "execution_count": 5,
            "metadata": {},
            "outputs": [
                {
                    "name": "stdout",
                    "output_type": "stream",
                    "text": [
                        "<module 'tensorflow._api.v2.version' from 'C:\\\\Users\\\\Teodor Petrovic\\\\AppData\\\\Local\\\\Programs\\\\Python\\\\Python39\\\\lib\\\\site-packages\\\\tensorflow\\\\_api\\\\v2\\\\version\\\\__init__.py'>\n"
                    ]
                }
            ],
            "source": [
                "import tensorflow as tf\n",
                "print(tf.version)"
            ]
        },
        {
            "cell_type": "code",
            "execution_count": 7,
            "metadata": {},
            "outputs": [
                {
                    "data": {
                        "text/plain": [
                            "<tf.Variable 'Variable:0' shape=() dtype=string, numpy=b'This is a string'>"
                        ]
                    },
                    "execution_count": 7,
                    "metadata": {},
                    "output_type": "execute_result"
                }
            ],
            "source": [
                "string = tf.Variable(\"This is a string\", tf.string)\n",
                "string"
            ]
        },
        {
            "cell_type": "code",
            "execution_count": 8,
            "metadata": {},
            "outputs": [
                {
                    "name": "stdout",
                    "output_type": "stream",
                    "text": [
                        "tf.Tensor(\n",
                        "[[[1. 1. 1.]\n",
                        "  [1. 1. 1.]]], shape=(1, 2, 3), dtype=float32)\n",
                        "tf.Tensor(\n",
                        "[[[1.]\n",
                        "  [1.]\n",
                        "  [1.]]\n",
                        "\n",
                        " [[1.]\n",
                        "  [1.]\n",
                        "  [1.]]], shape=(2, 3, 1), dtype=float32)\n",
                        "tf.Tensor(\n",
                        "[[1. 1.]\n",
                        " [1. 1.]\n",
                        " [1. 1.]], shape=(3, 2), dtype=float32)\n"
                    ]
                }
            ],
            "source": [
                "tensor1 = tf.ones([1,2,3])\n",
                "print(tensor1)\n",
                "tensor2 = tf.reshape(tensor1, [2,3,1])\n",
                "print(tensor2)\n",
                "tensor3 = tf.reshape(tensor2, [3,-1])\n",
                "print(tensor3)"
            ]
        },
        {
            "cell_type": "code",
            "execution_count": 1,
            "metadata": {},
            "outputs": [
                {
                    "name": "stdout",
                    "output_type": "stream",
                    "text": [
                        "Git provera\n"
                    ]
                }
            ],
            "source": [
                "print(\"Git provera\")"
            ]
        }
    ],
    "metadata": {
        "interpreter": {
            "hash": "018610bf0173d81837d7f119329085b6b95de8057993cbd74162a07af92a39d0"
        },
        "kernelspec": {
            "display_name": "Python 3.9.4 64-bit",
            "name": "python3"
        },
        "language_info": {
            "codemirror_mode": {
                "name": "ipython",
                "version": 3
            },
            "file_extension": ".py",
            "mimetype": "text/x-python",
            "name": "python",
            "nbconvert_exporter": "python",
            "pygments_lexer": "ipython3",
            "version": "3.9.4"
        },
        "orig_nbformat": 4
    },
    "nbformat": 4,
    "nbformat_minor": 2
}
