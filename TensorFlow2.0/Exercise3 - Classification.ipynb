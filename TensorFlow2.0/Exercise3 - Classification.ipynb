{
 "cells": [
  {
   "cell_type": "code",
   "execution_count": 8,
   "metadata": {},
   "outputs": [],
   "source": [
    "from __future__ import absolute_import, division, print_function, unicode_literals\n",
    "\n",
    "import tensorflow as tf\n",
    "import pandas as pd"
   ]
  },
  {
   "cell_type": "code",
   "execution_count": 9,
   "metadata": {},
   "outputs": [],
   "source": [
    "CSV_COLUMN_NAMES = ['SepalLength', 'SepalWidth', 'PetalLength', 'PetalWidth', 'Species']\n",
    "SPECIES = ['Setosa', 'Versicolor', 'Virginica']"
   ]
  },
  {
   "cell_type": "code",
   "execution_count": 10,
   "metadata": {},
   "outputs": [],
   "source": [
    "train_path = tf.keras.utils.get_file(\"iris_training.csv\", \"https://storage.googleapis.com/download.tensorflow.org/data/iris_training.csv\")\n",
    "test_path = tf.keras.utils.get_file(\"iris_test.csv\", \"https://storage.googleapis.com/download.tensorflow.org/data/iris_test.csv\")\n",
    "\n",
    "train = pd.read_csv(train_path, names=CSV_COLUMN_NAMES, header=0)\n",
    "test = pd.read_csv(test_path, names=CSV_COLUMN_NAMES, header=0)\n",
    "# Here we use keras (a module inside of TensorFlow) to grab our datasets and read them into a pandas dataframe"
   ]
  },
  {
   "cell_type": "code",
   "execution_count": 11,
   "metadata": {},
   "outputs": [
    {
     "data": {
      "text/html": [
       "<div>\n",
       "<style scoped>\n",
       "    .dataframe tbody tr th:only-of-type {\n",
       "        vertical-align: middle;\n",
       "    }\n",
       "\n",
       "    .dataframe tbody tr th {\n",
       "        vertical-align: top;\n",
       "    }\n",
       "\n",
       "    .dataframe thead th {\n",
       "        text-align: right;\n",
       "    }\n",
       "</style>\n",
       "<table border=\"1\" class=\"dataframe\">\n",
       "  <thead>\n",
       "    <tr style=\"text-align: right;\">\n",
       "      <th></th>\n",
       "      <th>SepalLength</th>\n",
       "      <th>SepalWidth</th>\n",
       "      <th>PetalLength</th>\n",
       "      <th>PetalWidth</th>\n",
       "      <th>Species</th>\n",
       "    </tr>\n",
       "  </thead>\n",
       "  <tbody>\n",
       "    <tr>\n",
       "      <th>0</th>\n",
       "      <td>6.4</td>\n",
       "      <td>2.8</td>\n",
       "      <td>5.6</td>\n",
       "      <td>2.2</td>\n",
       "      <td>2</td>\n",
       "    </tr>\n",
       "    <tr>\n",
       "      <th>1</th>\n",
       "      <td>5.0</td>\n",
       "      <td>2.3</td>\n",
       "      <td>3.3</td>\n",
       "      <td>1.0</td>\n",
       "      <td>1</td>\n",
       "    </tr>\n",
       "    <tr>\n",
       "      <th>2</th>\n",
       "      <td>4.9</td>\n",
       "      <td>2.5</td>\n",
       "      <td>4.5</td>\n",
       "      <td>1.7</td>\n",
       "      <td>2</td>\n",
       "    </tr>\n",
       "    <tr>\n",
       "      <th>3</th>\n",
       "      <td>4.9</td>\n",
       "      <td>3.1</td>\n",
       "      <td>1.5</td>\n",
       "      <td>0.1</td>\n",
       "      <td>0</td>\n",
       "    </tr>\n",
       "    <tr>\n",
       "      <th>4</th>\n",
       "      <td>5.7</td>\n",
       "      <td>3.8</td>\n",
       "      <td>1.7</td>\n",
       "      <td>0.3</td>\n",
       "      <td>0</td>\n",
       "    </tr>\n",
       "  </tbody>\n",
       "</table>\n",
       "</div>"
      ],
      "text/plain": [
       "   SepalLength  SepalWidth  PetalLength  PetalWidth  Species\n",
       "0          6.4         2.8          5.6         2.2        2\n",
       "1          5.0         2.3          3.3         1.0        1\n",
       "2          4.9         2.5          4.5         1.7        2\n",
       "3          4.9         3.1          1.5         0.1        0\n",
       "4          5.7         3.8          1.7         0.3        0"
      ]
     },
     "execution_count": 11,
     "metadata": {},
     "output_type": "execute_result"
    }
   ],
   "source": [
    "train.head()"
   ]
  },
  {
   "cell_type": "code",
   "execution_count": 12,
   "metadata": {},
   "outputs": [
    {
     "data": {
      "text/plain": [
       "(120, 5)"
      ]
     },
     "execution_count": 12,
     "metadata": {},
     "output_type": "execute_result"
    }
   ],
   "source": [
    "train.shape"
   ]
  },
  {
   "cell_type": "code",
   "execution_count": 13,
   "metadata": {},
   "outputs": [
    {
     "data": {
      "text/plain": [
       "0    2\n",
       "1    1\n",
       "2    2\n",
       "3    0\n",
       "4    0\n",
       "Name: Species, dtype: int64"
      ]
     },
     "execution_count": 13,
     "metadata": {},
     "output_type": "execute_result"
    }
   ],
   "source": [
    "train_y = train.pop('Species')\n",
    "test_y = test.pop('Species')\n",
    "train_y.head()"
   ]
  },
  {
   "cell_type": "code",
   "execution_count": 14,
   "metadata": {},
   "outputs": [],
   "source": [
    "def input_fn(features, labels, training=True, batch_size=256):\n",
    "  # Pretvori is pandas u tf DataSet\n",
    "  dataset = tf.data.Dataset.from_tensor_slices((dict(features), labels))\n",
    "\n",
    "  #Uradi shufle N puta\n",
    "  if training:\n",
    "    dataset = dataset.shuffle(1000).repeat()\n",
    "  \n",
    "  return dataset.batch(batch_size) #I odredjenji batch size"
   ]
  },
  {
   "cell_type": "code",
   "execution_count": 15,
   "metadata": {},
   "outputs": [],
   "source": [
    "my_feature_columns = []\n",
    "for key in train.keys():\n",
    "    my_feature_columns.append(tf.feature_column.numeric_column(key=key))\n"
   ]
  },
  {
   "cell_type": "code",
   "execution_count": 16,
   "metadata": {},
   "outputs": [
    {
     "name": "stdout",
     "output_type": "stream",
     "text": [
      "INFO:tensorflow:Using default config.\n",
      "WARNING:tensorflow:Using temporary folder as model directory: C:\\Users\\TEODOR~1\\AppData\\Local\\Temp\\tmp1ggxs2mf\n",
      "INFO:tensorflow:Using config: {'_model_dir': 'C:\\\\Users\\\\TEODOR~1\\\\AppData\\\\Local\\\\Temp\\\\tmp1ggxs2mf', '_tf_random_seed': None, '_save_summary_steps': 100, '_save_checkpoints_steps': None, '_save_checkpoints_secs': 600, '_session_config': allow_soft_placement: true\n",
      "graph_options {\n",
      "  rewrite_options {\n",
      "    meta_optimizer_iterations: ONE\n",
      "  }\n",
      "}\n",
      ", '_keep_checkpoint_max': 5, '_keep_checkpoint_every_n_hours': 10000, '_log_step_count_steps': 100, '_train_distribute': None, '_device_fn': None, '_protocol': None, '_eval_distribute': None, '_experimental_distribute': None, '_experimental_max_worker_delay_secs': None, '_session_creation_timeout_secs': 7200, '_checkpoint_save_graph_def': True, '_service': None, '_cluster_spec': ClusterSpec({}), '_task_type': 'worker', '_task_id': 0, '_global_id_in_cluster': 0, '_master': '', '_evaluation_master': '', '_is_chief': True, '_num_ps_replicas': 0, '_num_worker_replicas': 1}\n"
     ]
    }
   ],
   "source": [
    "classifier = tf.estimator.DNNClassifier(feature_columns=my_feature_columns, hidden_units=[30,10], n_classes=3)"
   ]
  },
  {
   "cell_type": "code",
   "execution_count": 17,
   "metadata": {},
   "outputs": [
    {
     "name": "stdout",
     "output_type": "stream",
     "text": [
      "WARNING:tensorflow:From C:\\Users\\Teodor Petrovic\\AppData\\Local\\Programs\\Python\\Python39\\lib\\site-packages\\tensorflow\\python\\training\\training_util.py:400: Variable.initialized_value (from tensorflow.python.ops.variables) is deprecated and will be removed in a future version.\n",
      "Instructions for updating:\n",
      "Use Variable.read_value. Variables in 2.X are initialized automatically both in eager and graph (inside tf.defun) contexts.\n",
      "INFO:tensorflow:Calling model_fn.\n",
      "WARNING:tensorflow:From C:\\Users\\Teodor Petrovic\\AppData\\Local\\Programs\\Python\\Python39\\lib\\site-packages\\keras\\optimizer_v2\\adagrad.py:83: calling Constant.__init__ (from tensorflow.python.ops.init_ops) with dtype is deprecated and will be removed in a future version.\n",
      "Instructions for updating:\n",
      "Call initializer instance with the dtype argument instead of passing it to the constructor\n",
      "INFO:tensorflow:Done calling model_fn.\n",
      "INFO:tensorflow:Create CheckpointSaverHook.\n",
      "INFO:tensorflow:Graph was finalized.\n",
      "INFO:tensorflow:Running local_init_op.\n",
      "INFO:tensorflow:Done running local_init_op.\n",
      "INFO:tensorflow:Calling checkpoint listeners before saving checkpoint 0...\n",
      "INFO:tensorflow:Saving checkpoints for 0 into C:\\Users\\TEODOR~1\\AppData\\Local\\Temp\\tmp1ggxs2mf\\model.ckpt.\n",
      "INFO:tensorflow:Calling checkpoint listeners after saving checkpoint 0...\n",
      "INFO:tensorflow:loss = 1.6740794, step = 0\n",
      "INFO:tensorflow:global_step/sec: 541.201\n",
      "INFO:tensorflow:loss = 0.9626291, step = 100 (0.186 sec)\n",
      "INFO:tensorflow:global_step/sec: 693.427\n",
      "INFO:tensorflow:loss = 0.78784096, step = 200 (0.144 sec)\n",
      "INFO:tensorflow:global_step/sec: 739.914\n",
      "INFO:tensorflow:loss = 0.71574384, step = 300 (0.135 sec)\n",
      "INFO:tensorflow:global_step/sec: 732.169\n",
      "INFO:tensorflow:loss = 0.65516025, step = 400 (0.136 sec)\n",
      "INFO:tensorflow:global_step/sec: 743.435\n",
      "INFO:tensorflow:loss = 0.62348104, step = 500 (0.136 sec)\n",
      "INFO:tensorflow:global_step/sec: 726.434\n",
      "INFO:tensorflow:loss = 0.60256433, step = 600 (0.138 sec)\n",
      "INFO:tensorflow:global_step/sec: 737.073\n",
      "INFO:tensorflow:loss = 0.579906, step = 700 (0.136 sec)\n",
      "INFO:tensorflow:global_step/sec: 733.686\n",
      "INFO:tensorflow:loss = 0.5831866, step = 800 (0.136 sec)\n",
      "INFO:tensorflow:global_step/sec: 716.512\n",
      "INFO:tensorflow:loss = 0.5415857, step = 900 (0.140 sec)\n",
      "INFO:tensorflow:global_step/sec: 698.85\n",
      "INFO:tensorflow:loss = 0.5382389, step = 1000 (0.142 sec)\n",
      "INFO:tensorflow:global_step/sec: 737.941\n",
      "INFO:tensorflow:loss = 0.5000936, step = 1100 (0.136 sec)\n",
      "INFO:tensorflow:global_step/sec: 738.827\n",
      "INFO:tensorflow:loss = 0.502034, step = 1200 (0.134 sec)\n",
      "INFO:tensorflow:global_step/sec: 742.369\n",
      "INFO:tensorflow:loss = 0.49558896, step = 1300 (0.136 sec)\n",
      "INFO:tensorflow:global_step/sec: 748.188\n",
      "INFO:tensorflow:loss = 0.4720017, step = 1400 (0.133 sec)\n",
      "INFO:tensorflow:global_step/sec: 727.368\n",
      "INFO:tensorflow:loss = 0.47287035, step = 1500 (0.137 sec)\n",
      "INFO:tensorflow:global_step/sec: 737.687\n",
      "INFO:tensorflow:loss = 0.45948464, step = 1600 (0.136 sec)\n",
      "INFO:tensorflow:global_step/sec: 718.881\n",
      "INFO:tensorflow:loss = 0.45477384, step = 1700 (0.139 sec)\n",
      "INFO:tensorflow:global_step/sec: 690.403\n",
      "INFO:tensorflow:loss = 0.43890047, step = 1800 (0.146 sec)\n",
      "INFO:tensorflow:global_step/sec: 694.205\n",
      "INFO:tensorflow:loss = 0.43795562, step = 1900 (0.143 sec)\n",
      "INFO:tensorflow:global_step/sec: 734.68\n",
      "INFO:tensorflow:loss = 0.40893745, step = 2000 (0.136 sec)\n",
      "INFO:tensorflow:global_step/sec: 745.417\n",
      "INFO:tensorflow:loss = 0.41926724, step = 2100 (0.134 sec)\n",
      "INFO:tensorflow:global_step/sec: 743.32\n",
      "INFO:tensorflow:loss = 0.4046191, step = 2200 (0.135 sec)\n",
      "INFO:tensorflow:global_step/sec: 739.604\n",
      "INFO:tensorflow:loss = 0.40821028, step = 2300 (0.135 sec)\n",
      "INFO:tensorflow:global_step/sec: 746.631\n",
      "INFO:tensorflow:loss = 0.39607129, step = 2400 (0.134 sec)\n",
      "INFO:tensorflow:global_step/sec: 721.377\n",
      "INFO:tensorflow:loss = 0.38355917, step = 2500 (0.139 sec)\n",
      "INFO:tensorflow:global_step/sec: 750.747\n",
      "INFO:tensorflow:loss = 0.38350448, step = 2600 (0.133 sec)\n",
      "INFO:tensorflow:global_step/sec: 754.086\n",
      "INFO:tensorflow:loss = 0.37752306, step = 2700 (0.133 sec)\n",
      "INFO:tensorflow:global_step/sec: 743.336\n",
      "INFO:tensorflow:loss = 0.37275457, step = 2800 (0.135 sec)\n",
      "INFO:tensorflow:global_step/sec: 746.125\n",
      "INFO:tensorflow:loss = 0.3538325, step = 2900 (0.134 sec)\n",
      "INFO:tensorflow:global_step/sec: 758.287\n",
      "INFO:tensorflow:loss = 0.36443332, step = 3000 (0.132 sec)\n",
      "INFO:tensorflow:global_step/sec: 743.71\n",
      "INFO:tensorflow:loss = 0.36105746, step = 3100 (0.134 sec)\n",
      "INFO:tensorflow:global_step/sec: 747.14\n",
      "INFO:tensorflow:loss = 0.35724023, step = 3200 (0.134 sec)\n",
      "INFO:tensorflow:global_step/sec: 697.715\n",
      "INFO:tensorflow:loss = 0.3533928, step = 3300 (0.144 sec)\n",
      "INFO:tensorflow:global_step/sec: 731.124\n",
      "INFO:tensorflow:loss = 0.33721507, step = 3400 (0.136 sec)\n",
      "INFO:tensorflow:global_step/sec: 745.32\n",
      "INFO:tensorflow:loss = 0.3402121, step = 3500 (0.134 sec)\n",
      "INFO:tensorflow:global_step/sec: 750.289\n",
      "INFO:tensorflow:loss = 0.34314978, step = 3600 (0.135 sec)\n",
      "INFO:tensorflow:global_step/sec: 740.511\n",
      "INFO:tensorflow:loss = 0.33434713, step = 3700 (0.134 sec)\n",
      "INFO:tensorflow:global_step/sec: 743.647\n",
      "INFO:tensorflow:loss = 0.3317147, step = 3800 (0.134 sec)\n",
      "INFO:tensorflow:global_step/sec: 748.156\n",
      "INFO:tensorflow:loss = 0.32715124, step = 3900 (0.134 sec)\n",
      "INFO:tensorflow:global_step/sec: 683.176\n",
      "INFO:tensorflow:loss = 0.32603207, step = 4000 (0.146 sec)\n",
      "INFO:tensorflow:global_step/sec: 741.702\n",
      "INFO:tensorflow:loss = 0.32624072, step = 4100 (0.135 sec)\n",
      "INFO:tensorflow:global_step/sec: 743.896\n",
      "INFO:tensorflow:loss = 0.32488105, step = 4200 (0.135 sec)\n",
      "INFO:tensorflow:global_step/sec: 744.044\n",
      "INFO:tensorflow:loss = 0.330306, step = 4300 (0.134 sec)\n",
      "INFO:tensorflow:global_step/sec: 743.305\n",
      "INFO:tensorflow:loss = 0.31170556, step = 4400 (0.135 sec)\n",
      "INFO:tensorflow:global_step/sec: 759.327\n",
      "INFO:tensorflow:loss = 0.30955017, step = 4500 (0.132 sec)\n",
      "INFO:tensorflow:global_step/sec: 756.976\n",
      "INFO:tensorflow:loss = 0.3037488, step = 4600 (0.132 sec)\n",
      "INFO:tensorflow:global_step/sec: 747.047\n",
      "INFO:tensorflow:loss = 0.30564338, step = 4700 (0.134 sec)\n",
      "INFO:tensorflow:global_step/sec: 696.395\n",
      "INFO:tensorflow:loss = 0.2971316, step = 4800 (0.144 sec)\n",
      "INFO:tensorflow:global_step/sec: 730.293\n",
      "INFO:tensorflow:loss = 0.29599318, step = 4900 (0.137 sec)\n",
      "INFO:tensorflow:Calling checkpoint listeners before saving checkpoint 5000...\n",
      "INFO:tensorflow:Saving checkpoints for 5000 into C:\\Users\\TEODOR~1\\AppData\\Local\\Temp\\tmp1ggxs2mf\\model.ckpt.\n",
      "INFO:tensorflow:Calling checkpoint listeners after saving checkpoint 5000...\n",
      "INFO:tensorflow:Loss for final step: 0.2928661.\n"
     ]
    },
    {
     "data": {
      "text/plain": [
       "<tensorflow_estimator.python.estimator.canned.dnn.DNNClassifierV2 at 0x256c2a2ee50>"
      ]
     },
     "execution_count": 17,
     "metadata": {},
     "output_type": "execute_result"
    }
   ],
   "source": [
    "#Kao u Exercise 2 morali smo da imamo funkciju koja vraca funkciju kao odgovor, to smo u 2. uradili u input function\n",
    "#Dok ovde smo za input function uradili tek posle prilikom trening sa LAMBDA  izrazom, zasto je ovo ovako mora da se proveri\n",
    "classifier.train(input_fn=lambda: input_fn(train, train_y, training=True), steps=5000)"
   ]
  },
  {
   "cell_type": "code",
   "execution_count": 18,
   "metadata": {},
   "outputs": [
    {
     "name": "stdout",
     "output_type": "stream",
     "text": [
      "INFO:tensorflow:Calling model_fn.\n",
      "INFO:tensorflow:Done calling model_fn.\n",
      "INFO:tensorflow:Starting evaluation at 2021-11-21T18:12:12\n",
      "INFO:tensorflow:Graph was finalized.\n",
      "INFO:tensorflow:Restoring parameters from C:\\Users\\TEODOR~1\\AppData\\Local\\Temp\\tmp1ggxs2mf\\model.ckpt-5000\n",
      "INFO:tensorflow:Running local_init_op.\n",
      "INFO:tensorflow:Done running local_init_op.\n",
      "INFO:tensorflow:Inference Time : 1.20365s\n",
      "INFO:tensorflow:Finished evaluation at 2021-11-21-18:12:14\n",
      "INFO:tensorflow:Saving dict for global step 5000: accuracy = 0.93333334, average_loss = 0.3469302, global_step = 5000, loss = 0.3469302\n",
      "INFO:tensorflow:Saving 'checkpoint_path' summary for global step 5000: C:\\Users\\TEODOR~1\\AppData\\Local\\Temp\\tmp1ggxs2mf\\model.ckpt-5000\n"
     ]
    },
    {
     "data": {
      "text/plain": [
       "{'accuracy': 0.93333334,\n",
       " 'average_loss': 0.3469302,\n",
       " 'loss': 0.3469302,\n",
       " 'global_step': 5000}"
      ]
     },
     "execution_count": 18,
     "metadata": {},
     "output_type": "execute_result"
    }
   ],
   "source": [
    "#Sada treba evaluirati nas trening  i traning=False jer netreba shuffle podataka jer je samo evaluacija\n",
    "classifier.evaluate(input_fn=lambda: input_fn(test, test_y, training=False))"
   ]
  },
  {
   "cell_type": "code",
   "execution_count": 27,
   "metadata": {},
   "outputs": [
    {
     "name": "stdout",
     "output_type": "stream",
     "text": [
      "Please type numeric values as prompted.\n",
      "INFO:tensorflow:Calling model_fn.\n",
      "INFO:tensorflow:Done calling model_fn.\n",
      "INFO:tensorflow:Graph was finalized.\n",
      "INFO:tensorflow:Restoring parameters from C:\\Users\\TEODOR~1\\AppData\\Local\\Temp\\tmp1ggxs2mf\\model.ckpt-5000\n",
      "INFO:tensorflow:Running local_init_op.\n",
      "INFO:tensorflow:Done running local_init_op.\n",
      "{'logits': array([-1.0837886,  1.0290974,  7.5611053], dtype=float32), 'probabilities': array([1.7573658e-04, 1.4537070e-03, 9.9837059e-01], dtype=float32), 'class_ids': array([2], dtype=int64), 'classes': array([b'2'], dtype=object), 'all_class_ids': array([0, 1, 2]), 'all_classes': array([b'0', b'1', b'2'], dtype=object)}\n",
      "Prediction is \"Virginica\" (99.8%)\n"
     ]
    }
   ],
   "source": [
    "def input_fn(features, batch_size=256):\n",
    "    # Konvertuje pandas input u dataset za tf\n",
    "    return tf.data.Dataset.from_tensor_slices(dict(features)).batch(batch_size)\n",
    "\n",
    "features = ['SepalLength', 'SepalWidth', 'PetalLength', 'PetalWidth']\n",
    "predict = {}\n",
    "\n",
    "#Daj svoj proizovljan primer cveta da se uporedi sa modelom\n",
    "print(\"Please type numeric values as prompted.\")\n",
    "for feature in features:\n",
    "    valid = True\n",
    "    while valid: \n",
    "        val = input(feature + \": \")\n",
    "        if not val.isdigit(): valid = False\n",
    "\n",
    "    predict[feature] = [float(val)]\n",
    "\n",
    "#Posto mu mi prosledjujemo samo jedan primer, tako je napravljena ova vunkcija malopre,\n",
    "#Medjutim mozemo da mu prosledimo vise od jedne stvari odjednom\n",
    "predictions = classifier.predict(input_fn=lambda: input_fn(predict))\n",
    "for pred_dict in predictions:\n",
    "    print(pred_dict)\n",
    "    class_id = pred_dict['class_ids'][0]\n",
    "    probability = pred_dict['probabilities'][class_id]\n",
    "\n",
    "    print('Prediction is \"{}\" ({:.1f}%)'.format(SPECIES[class_id], 100 * probability))\n"
   ]
  }
 ],
 "metadata": {
  "interpreter": {
   "hash": "018610bf0173d81837d7f119329085b6b95de8057993cbd74162a07af92a39d0"
  },
  "kernelspec": {
   "display_name": "Python 3.9.4 64-bit",
   "language": "python",
   "name": "python3"
  },
  "language_info": {
   "codemirror_mode": {
    "name": "ipython",
    "version": 3
   },
   "file_extension": ".py",
   "mimetype": "text/x-python",
   "name": "python",
   "nbconvert_exporter": "python",
   "pygments_lexer": "ipython3",
   "version": "3.9.4"
  },
  "orig_nbformat": 4
 },
 "nbformat": 4,
 "nbformat_minor": 2
}
