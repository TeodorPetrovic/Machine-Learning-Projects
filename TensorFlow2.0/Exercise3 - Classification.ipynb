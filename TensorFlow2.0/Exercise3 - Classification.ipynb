{
 "cells": [
  {
   "cell_type": "code",
   "execution_count": 1,
   "metadata": {},
   "outputs": [],
   "source": [
    "from __future__ import absolute_import, division, print_function, unicode_literals\n",
    "\n",
    "import tensorflow as tf\n",
    "import pandas as pd"
   ]
  },
  {
   "cell_type": "code",
   "execution_count": 2,
   "metadata": {},
   "outputs": [],
   "source": [
    "CSV_COLUMN_NAMES = ['SepalLength', 'SepalWidth', 'PetalLength', 'PetalWidth', 'Species']\n",
    "SPECIES = ['Setosa', 'Versicolor', 'Virginica']"
   ]
  },
  {
   "cell_type": "code",
   "execution_count": 3,
   "metadata": {},
   "outputs": [
    {
     "name": "stdout",
     "output_type": "stream",
     "text": [
      "Downloading data from https://storage.googleapis.com/download.tensorflow.org/data/iris_training.csv\n",
      "16384/2194 [================================================================================================================================================================================================================================] - 0s 0s/step\n",
      "Downloading data from https://storage.googleapis.com/download.tensorflow.org/data/iris_test.csv\n",
      "16384/573 [=========================================================================================================================================================================================================================================================================================================================================================================================================================================================================================================================================================================================================================================================================================================================================================================================================================================================================================] - 0s 0s/step\n"
     ]
    }
   ],
   "source": [
    "train_path = tf.keras.utils.get_file(\"iris_training.csv\", \"https://storage.googleapis.com/download.tensorflow.org/data/iris_training.csv\")\n",
    "test_path = tf.keras.utils.get_file(\"iris_test.csv\", \"https://storage.googleapis.com/download.tensorflow.org/data/iris_test.csv\")\n",
    "\n",
    "train = pd.read_csv(train_path, names=CSV_COLUMN_NAMES, header=0)\n",
    "test = pd.read_csv(test_path, names=CSV_COLUMN_NAMES, header=0)\n",
    "# Here we use keras (a module inside of TensorFlow) to grab our datasets and read them into a pandas dataframe"
   ]
  },
  {
   "cell_type": "code",
   "execution_count": 9,
   "metadata": {},
   "outputs": [
    {
     "data": {
      "text/html": [
       "<div>\n",
       "<style scoped>\n",
       "    .dataframe tbody tr th:only-of-type {\n",
       "        vertical-align: middle;\n",
       "    }\n",
       "\n",
       "    .dataframe tbody tr th {\n",
       "        vertical-align: top;\n",
       "    }\n",
       "\n",
       "    .dataframe thead th {\n",
       "        text-align: right;\n",
       "    }\n",
       "</style>\n",
       "<table border=\"1\" class=\"dataframe\">\n",
       "  <thead>\n",
       "    <tr style=\"text-align: right;\">\n",
       "      <th></th>\n",
       "      <th>SepalLength</th>\n",
       "      <th>SepalWidth</th>\n",
       "      <th>PetalLength</th>\n",
       "      <th>PetalWidth</th>\n",
       "    </tr>\n",
       "  </thead>\n",
       "  <tbody>\n",
       "    <tr>\n",
       "      <th>0</th>\n",
       "      <td>6.4</td>\n",
       "      <td>2.8</td>\n",
       "      <td>5.6</td>\n",
       "      <td>2.2</td>\n",
       "    </tr>\n",
       "    <tr>\n",
       "      <th>1</th>\n",
       "      <td>5.0</td>\n",
       "      <td>2.3</td>\n",
       "      <td>3.3</td>\n",
       "      <td>1.0</td>\n",
       "    </tr>\n",
       "    <tr>\n",
       "      <th>2</th>\n",
       "      <td>4.9</td>\n",
       "      <td>2.5</td>\n",
       "      <td>4.5</td>\n",
       "      <td>1.7</td>\n",
       "    </tr>\n",
       "    <tr>\n",
       "      <th>3</th>\n",
       "      <td>4.9</td>\n",
       "      <td>3.1</td>\n",
       "      <td>1.5</td>\n",
       "      <td>0.1</td>\n",
       "    </tr>\n",
       "    <tr>\n",
       "      <th>4</th>\n",
       "      <td>5.7</td>\n",
       "      <td>3.8</td>\n",
       "      <td>1.7</td>\n",
       "      <td>0.3</td>\n",
       "    </tr>\n",
       "  </tbody>\n",
       "</table>\n",
       "</div>"
      ],
      "text/plain": [
       "   SepalLength  SepalWidth  PetalLength  PetalWidth\n",
       "0          6.4         2.8          5.6         2.2\n",
       "1          5.0         2.3          3.3         1.0\n",
       "2          4.9         2.5          4.5         1.7\n",
       "3          4.9         3.1          1.5         0.1\n",
       "4          5.7         3.8          1.7         0.3"
      ]
     },
     "execution_count": 9,
     "metadata": {},
     "output_type": "execute_result"
    }
   ],
   "source": [
    "train.head()"
   ]
  },
  {
   "cell_type": "code",
   "execution_count": 10,
   "metadata": {},
   "outputs": [
    {
     "data": {
      "text/plain": [
       "(120, 4)"
      ]
     },
     "execution_count": 10,
     "metadata": {},
     "output_type": "execute_result"
    }
   ],
   "source": [
    "train.shape"
   ]
  },
  {
   "cell_type": "code",
   "execution_count": 5,
   "metadata": {},
   "outputs": [
    {
     "data": {
      "text/plain": [
       "0    2\n",
       "1    1\n",
       "2    2\n",
       "3    0\n",
       "4    0\n",
       "Name: Species, dtype: int64"
      ]
     },
     "execution_count": 5,
     "metadata": {},
     "output_type": "execute_result"
    }
   ],
   "source": [
    "train_y = train.pop('Species')\n",
    "test_y = test.pop('Species')\n",
    "train_y.head()"
   ]
  },
  {
   "cell_type": "code",
   "execution_count": 6,
   "metadata": {},
   "outputs": [],
   "source": [
    "def input_fn(features, labels, training=True, batch_size=256):\n",
    "  # Pretvori is pandas u tf DataSet\n",
    "  dataset = tf.data.Dataset.from_tensor_slices((dict(features), labels))\n",
    "\n",
    "  #Uradi shufle N puta\n",
    "  if training:\n",
    "    dataset = dataset.shuffle(1000).repeat()\n",
    "  \n",
    "  return dataset.batch(batch_size) #I odredjenji batch size"
   ]
  },
  {
   "cell_type": "code",
   "execution_count": 11,
   "metadata": {},
   "outputs": [],
   "source": [
    "my_feature_columns = []\n",
    "for key in train.keys():\n",
    "    my_feature_columns.append(tf.feature_column.numeric_column(key=key))\n"
   ]
  },
  {
   "cell_type": "code",
   "execution_count": 12,
   "metadata": {},
   "outputs": [
    {
     "name": "stdout",
     "output_type": "stream",
     "text": [
      "INFO:tensorflow:Using default config.\n",
      "WARNING:tensorflow:Using temporary folder as model directory: C:\\Users\\TEODOR~1\\AppData\\Local\\Temp\\tmp04gchoep\n",
      "INFO:tensorflow:Using config: {'_model_dir': 'C:\\\\Users\\\\TEODOR~1\\\\AppData\\\\Local\\\\Temp\\\\tmp04gchoep', '_tf_random_seed': None, '_save_summary_steps': 100, '_save_checkpoints_steps': None, '_save_checkpoints_secs': 600, '_session_config': allow_soft_placement: true\n",
      "graph_options {\n",
      "  rewrite_options {\n",
      "    meta_optimizer_iterations: ONE\n",
      "  }\n",
      "}\n",
      ", '_keep_checkpoint_max': 5, '_keep_checkpoint_every_n_hours': 10000, '_log_step_count_steps': 100, '_train_distribute': None, '_device_fn': None, '_protocol': None, '_eval_distribute': None, '_experimental_distribute': None, '_experimental_max_worker_delay_secs': None, '_session_creation_timeout_secs': 7200, '_checkpoint_save_graph_def': True, '_service': None, '_cluster_spec': ClusterSpec({}), '_task_type': 'worker', '_task_id': 0, '_global_id_in_cluster': 0, '_master': '', '_evaluation_master': '', '_is_chief': True, '_num_ps_replicas': 0, '_num_worker_replicas': 1}\n"
     ]
    }
   ],
   "source": [
    "classifier = tf.estimator.DNNClassifier(feature_columns=my_feature_columns, hidden_units=[30,10], n_classes=3)"
   ]
  },
  {
   "cell_type": "code",
   "execution_count": 13,
   "metadata": {},
   "outputs": [
    {
     "name": "stdout",
     "output_type": "stream",
     "text": [
      "WARNING:tensorflow:From C:\\Users\\Teodor Petrovic\\AppData\\Local\\Programs\\Python\\Python39\\lib\\site-packages\\tensorflow\\python\\training\\training_util.py:400: Variable.initialized_value (from tensorflow.python.ops.variables) is deprecated and will be removed in a future version.\n",
      "Instructions for updating:\n",
      "Use Variable.read_value. Variables in 2.X are initialized automatically both in eager and graph (inside tf.defun) contexts.\n",
      "INFO:tensorflow:Calling model_fn.\n",
      "WARNING:tensorflow:From C:\\Users\\Teodor Petrovic\\AppData\\Local\\Programs\\Python\\Python39\\lib\\site-packages\\keras\\optimizer_v2\\adagrad.py:83: calling Constant.__init__ (from tensorflow.python.ops.init_ops) with dtype is deprecated and will be removed in a future version.\n",
      "Instructions for updating:\n",
      "Call initializer instance with the dtype argument instead of passing it to the constructor\n",
      "INFO:tensorflow:Done calling model_fn.\n",
      "INFO:tensorflow:Create CheckpointSaverHook.\n",
      "INFO:tensorflow:Graph was finalized.\n",
      "INFO:tensorflow:Running local_init_op.\n",
      "INFO:tensorflow:Done running local_init_op.\n",
      "INFO:tensorflow:Calling checkpoint listeners before saving checkpoint 0...\n",
      "INFO:tensorflow:Saving checkpoints for 0 into C:\\Users\\TEODOR~1\\AppData\\Local\\Temp\\tmp04gchoep\\model.ckpt.\n",
      "INFO:tensorflow:Calling checkpoint listeners after saving checkpoint 0...\n",
      "INFO:tensorflow:loss = 1.2787906, step = 0\n",
      "INFO:tensorflow:global_step/sec: 411.948\n",
      "INFO:tensorflow:loss = 0.97209954, step = 100 (0.243 sec)\n",
      "INFO:tensorflow:global_step/sec: 566.467\n",
      "INFO:tensorflow:loss = 0.9069021, step = 200 (0.178 sec)\n",
      "INFO:tensorflow:global_step/sec: 585.344\n",
      "INFO:tensorflow:loss = 0.86676323, step = 300 (0.170 sec)\n",
      "INFO:tensorflow:global_step/sec: 585.702\n",
      "INFO:tensorflow:loss = 0.83113045, step = 400 (0.172 sec)\n",
      "INFO:tensorflow:global_step/sec: 611.767\n",
      "INFO:tensorflow:loss = 0.8064901, step = 500 (0.162 sec)\n",
      "INFO:tensorflow:global_step/sec: 545.841\n",
      "INFO:tensorflow:loss = 0.7789246, step = 600 (0.185 sec)\n",
      "INFO:tensorflow:global_step/sec: 575.926\n",
      "INFO:tensorflow:loss = 0.75251293, step = 700 (0.172 sec)\n",
      "INFO:tensorflow:global_step/sec: 554.543\n",
      "INFO:tensorflow:loss = 0.7305445, step = 800 (0.180 sec)\n",
      "INFO:tensorflow:global_step/sec: 671.864\n",
      "INFO:tensorflow:loss = 0.71574134, step = 900 (0.149 sec)\n",
      "INFO:tensorflow:global_step/sec: 665.133\n",
      "INFO:tensorflow:loss = 0.69855887, step = 1000 (0.150 sec)\n",
      "INFO:tensorflow:global_step/sec: 673.194\n",
      "INFO:tensorflow:loss = 0.67778873, step = 1100 (0.149 sec)\n",
      "INFO:tensorflow:global_step/sec: 673.703\n",
      "INFO:tensorflow:loss = 0.6684224, step = 1200 (0.148 sec)\n",
      "INFO:tensorflow:global_step/sec: 671.213\n",
      "INFO:tensorflow:loss = 0.64888674, step = 1300 (0.149 sec)\n",
      "INFO:tensorflow:global_step/sec: 651.958\n",
      "INFO:tensorflow:loss = 0.63796836, step = 1400 (0.153 sec)\n",
      "INFO:tensorflow:global_step/sec: 612.992\n",
      "INFO:tensorflow:loss = 0.62306607, step = 1500 (0.163 sec)\n",
      "INFO:tensorflow:global_step/sec: 642.447\n",
      "INFO:tensorflow:loss = 0.61363506, step = 1600 (0.156 sec)\n",
      "INFO:tensorflow:global_step/sec: 680.805\n",
      "INFO:tensorflow:loss = 0.60263586, step = 1700 (0.148 sec)\n",
      "INFO:tensorflow:global_step/sec: 661.905\n",
      "INFO:tensorflow:loss = 0.5903708, step = 1800 (0.150 sec)\n",
      "INFO:tensorflow:global_step/sec: 648.802\n",
      "INFO:tensorflow:loss = 0.5751618, step = 1900 (0.155 sec)\n",
      "INFO:tensorflow:global_step/sec: 641.075\n",
      "INFO:tensorflow:loss = 0.56090283, step = 2000 (0.155 sec)\n",
      "INFO:tensorflow:global_step/sec: 632.905\n",
      "INFO:tensorflow:loss = 0.5539855, step = 2100 (0.157 sec)\n",
      "INFO:tensorflow:global_step/sec: 636.669\n",
      "INFO:tensorflow:loss = 0.54995596, step = 2200 (0.158 sec)\n",
      "INFO:tensorflow:global_step/sec: 674.259\n",
      "INFO:tensorflow:loss = 0.52951264, step = 2300 (0.148 sec)\n",
      "INFO:tensorflow:global_step/sec: 675.546\n",
      "INFO:tensorflow:loss = 0.5293356, step = 2400 (0.149 sec)\n",
      "INFO:tensorflow:global_step/sec: 673.222\n",
      "INFO:tensorflow:loss = 0.5129651, step = 2500 (0.148 sec)\n",
      "INFO:tensorflow:global_step/sec: 679.93\n",
      "INFO:tensorflow:loss = 0.5077822, step = 2600 (0.147 sec)\n",
      "INFO:tensorflow:global_step/sec: 673.472\n",
      "INFO:tensorflow:loss = 0.5015985, step = 2700 (0.149 sec)\n",
      "INFO:tensorflow:global_step/sec: 668.948\n",
      "INFO:tensorflow:loss = 0.487126, step = 2800 (0.149 sec)\n",
      "INFO:tensorflow:global_step/sec: 638.421\n",
      "INFO:tensorflow:loss = 0.49452543, step = 2900 (0.157 sec)\n",
      "INFO:tensorflow:global_step/sec: 680.437\n",
      "INFO:tensorflow:loss = 0.46758932, step = 3000 (0.147 sec)\n",
      "INFO:tensorflow:global_step/sec: 673.812\n",
      "INFO:tensorflow:loss = 0.46529192, step = 3100 (0.148 sec)\n",
      "INFO:tensorflow:global_step/sec: 678.122\n",
      "INFO:tensorflow:loss = 0.46918777, step = 3200 (0.147 sec)\n",
      "INFO:tensorflow:global_step/sec: 655.749\n",
      "INFO:tensorflow:loss = 0.45160836, step = 3300 (0.153 sec)\n",
      "INFO:tensorflow:global_step/sec: 678.313\n",
      "INFO:tensorflow:loss = 0.45451713, step = 3400 (0.148 sec)\n",
      "INFO:tensorflow:global_step/sec: 673.167\n",
      "INFO:tensorflow:loss = 0.43503645, step = 3500 (0.148 sec)\n",
      "INFO:tensorflow:global_step/sec: 597.565\n",
      "INFO:tensorflow:loss = 0.43570888, step = 3600 (0.167 sec)\n",
      "INFO:tensorflow:global_step/sec: 672.265\n",
      "INFO:tensorflow:loss = 0.4212411, step = 3700 (0.149 sec)\n",
      "INFO:tensorflow:global_step/sec: 677.722\n",
      "INFO:tensorflow:loss = 0.42393494, step = 3800 (0.149 sec)\n",
      "INFO:tensorflow:global_step/sec: 656.714\n",
      "INFO:tensorflow:loss = 0.4093558, step = 3900 (0.151 sec)\n",
      "INFO:tensorflow:global_step/sec: 674.645\n",
      "INFO:tensorflow:loss = 0.41194963, step = 4000 (0.148 sec)\n",
      "INFO:tensorflow:global_step/sec: 639.614\n",
      "INFO:tensorflow:loss = 0.3991336, step = 4100 (0.157 sec)\n",
      "INFO:tensorflow:global_step/sec: 658.579\n",
      "INFO:tensorflow:loss = 0.40222505, step = 4200 (0.151 sec)\n",
      "INFO:tensorflow:global_step/sec: 622.479\n",
      "INFO:tensorflow:loss = 0.39301157, step = 4300 (0.161 sec)\n",
      "INFO:tensorflow:global_step/sec: 664.14\n",
      "INFO:tensorflow:loss = 0.3924626, step = 4400 (0.151 sec)\n",
      "INFO:tensorflow:global_step/sec: 672.63\n",
      "INFO:tensorflow:loss = 0.38276052, step = 4500 (0.149 sec)\n",
      "INFO:tensorflow:global_step/sec: 681.607\n",
      "INFO:tensorflow:loss = 0.37843543, step = 4600 (0.148 sec)\n",
      "INFO:tensorflow:global_step/sec: 655.09\n",
      "INFO:tensorflow:loss = 0.36250576, step = 4700 (0.152 sec)\n",
      "INFO:tensorflow:global_step/sec: 667.08\n",
      "INFO:tensorflow:loss = 0.36652693, step = 4800 (0.150 sec)\n",
      "INFO:tensorflow:global_step/sec: 646.882\n",
      "INFO:tensorflow:loss = 0.36530283, step = 4900 (0.155 sec)\n",
      "INFO:tensorflow:Calling checkpoint listeners before saving checkpoint 5000...\n",
      "INFO:tensorflow:Saving checkpoints for 5000 into C:\\Users\\TEODOR~1\\AppData\\Local\\Temp\\tmp04gchoep\\model.ckpt.\n",
      "INFO:tensorflow:Calling checkpoint listeners after saving checkpoint 5000...\n",
      "INFO:tensorflow:Loss for final step: 0.35807765.\n"
     ]
    },
    {
     "data": {
      "text/plain": [
       "<tensorflow_estimator.python.estimator.canned.dnn.DNNClassifierV2 at 0x2164a4d2700>"
      ]
     },
     "execution_count": 13,
     "metadata": {},
     "output_type": "execute_result"
    }
   ],
   "source": [
    "#Kao u Exercise 2 morali smo da imamo funkciju koja vraca funkciju kao odgovor, to smo u 2. uradili u input function\n",
    "#Dok ovde smo za input function uradili tek posle prilikom trening sa LAMBDA  izrazom, zasto je ovo ovako mora da se proveri\n",
    "classifier.train(input_fn=lambda: input_fn(train, train_y, training=True), steps=5000)"
   ]
  },
  {
   "cell_type": "code",
   "execution_count": 14,
   "metadata": {},
   "outputs": [
    {
     "name": "stdout",
     "output_type": "stream",
     "text": [
      "INFO:tensorflow:Calling model_fn.\n",
      "INFO:tensorflow:Done calling model_fn.\n",
      "INFO:tensorflow:Starting evaluation at 2021-11-21T12:48:08\n",
      "INFO:tensorflow:Graph was finalized.\n",
      "INFO:tensorflow:Restoring parameters from C:\\Users\\TEODOR~1\\AppData\\Local\\Temp\\tmp04gchoep\\model.ckpt-5000\n",
      "INFO:tensorflow:Running local_init_op.\n",
      "INFO:tensorflow:Done running local_init_op.\n",
      "INFO:tensorflow:Inference Time : 0.29125s\n",
      "INFO:tensorflow:Finished evaluation at 2021-11-21-12:48:08\n",
      "INFO:tensorflow:Saving dict for global step 5000: accuracy = 0.93333334, average_loss = 0.41588396, global_step = 5000, loss = 0.41588396\n",
      "INFO:tensorflow:Saving 'checkpoint_path' summary for global step 5000: C:\\Users\\TEODOR~1\\AppData\\Local\\Temp\\tmp04gchoep\\model.ckpt-5000\n"
     ]
    },
    {
     "data": {
      "text/plain": [
       "{'accuracy': 0.93333334,\n",
       " 'average_loss': 0.41588396,\n",
       " 'loss': 0.41588396,\n",
       " 'global_step': 5000}"
      ]
     },
     "execution_count": 14,
     "metadata": {},
     "output_type": "execute_result"
    }
   ],
   "source": [
    "#Sada treba evaluirati nas trening  i traning=False jer netreba shuffle podataka jer je samo evaluacija\n",
    "classifier.evaluate(input_fn=lambda: input_fn(test, test_y, training=False))"
   ]
  }
 ],
 "metadata": {
  "interpreter": {
   "hash": "018610bf0173d81837d7f119329085b6b95de8057993cbd74162a07af92a39d0"
  },
  "kernelspec": {
   "display_name": "Python 3.9.4 64-bit",
   "language": "python",
   "name": "python3"
  },
  "language_info": {
   "codemirror_mode": {
    "name": "ipython",
    "version": 3
   },
   "file_extension": ".py",
   "mimetype": "text/x-python",
   "name": "python",
   "nbconvert_exporter": "python",
   "pygments_lexer": "ipython3",
   "version": "3.9.4"
  },
  "orig_nbformat": 4
 },
 "nbformat": 4,
 "nbformat_minor": 2
}
