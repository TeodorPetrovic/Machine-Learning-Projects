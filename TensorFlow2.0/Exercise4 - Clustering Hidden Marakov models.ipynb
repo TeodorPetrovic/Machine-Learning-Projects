{
 "cells": [
  {
   "cell_type": "code",
   "execution_count": 2,
   "metadata": {},
   "outputs": [],
   "source": [
    "import tensorflow_probability as tfp # poseban tensorflow model koji radi sa verovatnocama!!\n",
    "import tensorflow as tf"
   ]
  },
  {
   "cell_type": "markdown",
   "metadata": {},
   "source": [
    "We will model a simple weather system and try to predict the temperature on each day given the following information.\n",
    "\n",
    "    1. Cold days are encoded by a 0 and hot days are encoded by a 1.\n",
    "    2. The first day in our sequence has an 80% chance of being cold.\n",
    "    3. A cold day has a 30% chance of being followed by a hot day.\n",
    "    4. A hot day has a 20% chance of being followed by a cold day.\n",
    "    5.On each day the temperature is normally distributed with mean and standard deviation 0 and 5 on a cold day and mean and standard deviation 15 and 10 on a hot day.\n"
   ]
  },
  {
   "cell_type": "code",
   "execution_count": 4,
   "metadata": {},
   "outputs": [],
   "source": [
    "initial_distribution = tfp.distributions.Categorical(probs=[0.8,0.2]) # 2 deo\n",
    "transition_distribution = tfp.distributions.Categorical(probs=[[0.7,0.3],[0.2,0.8]]) # 3 i 4 deo    \n",
    "# 5. deo || loc predstavlja srednju vrednost a scale je standardna devijacija \n",
    "# {5.} predstavlja float broj\n",
    "observation_distribution = tfp.distributions.Normal(loc=[0.,15.], scale=[5.,10.])"
   ]
  },
  {
   "cell_type": "code",
   "execution_count": 5,
   "metadata": {},
   "outputs": [],
   "source": [
    "model = tfp.distributions.HiddenMarkovModel(\n",
    "    initial_distribution=initial_distribution,\n",
    "    transition_distribution=transition_distribution,\n",
    "    observation_distribution=observation_distribution,\n",
    "    num_steps=7\n",
    "    )"
   ]
  },
  {
   "cell_type": "code",
   "execution_count": 6,
   "metadata": {},
   "outputs": [
    {
     "name": "stdout",
     "output_type": "stream",
     "text": [
      "[2.9999998 5.9999995 7.4999995 8.25      8.625     8.812501  8.90625  ]\n"
     ]
    }
   ],
   "source": [
    "mean = model.mean() #Partial defined tensor\n",
    "\n",
    "with tf.compat.v1.Session() as sess:\n",
    "    print(mean.numpy())"
   ]
  }
 ],
 "metadata": {
  "interpreter": {
   "hash": "018610bf0173d81837d7f119329085b6b95de8057993cbd74162a07af92a39d0"
  },
  "kernelspec": {
   "display_name": "Python 3.9.4 64-bit",
   "language": "python",
   "name": "python3"
  },
  "language_info": {
   "codemirror_mode": {
    "name": "ipython",
    "version": 3
   },
   "file_extension": ".py",
   "mimetype": "text/x-python",
   "name": "python",
   "nbconvert_exporter": "python",
   "pygments_lexer": "ipython3",
   "version": "3.9.4"
  },
  "orig_nbformat": 4
 },
 "nbformat": 4,
 "nbformat_minor": 2
}
