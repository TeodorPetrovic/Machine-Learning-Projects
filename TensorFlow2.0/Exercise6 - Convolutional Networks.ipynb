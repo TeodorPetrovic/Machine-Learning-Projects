{
 "cells": [
  {
   "cell_type": "code",
   "execution_count": 12,
   "metadata": {},
   "outputs": [],
   "source": [
    "import tensorflow as tf\n",
    "from tensorflow.keras import datasets, layers, models\n",
    "import matplotlib.pyplot as plt\n",
    "import numpy as np"
   ]
  },
  {
   "cell_type": "code",
   "execution_count": 3,
   "metadata": {},
   "outputs": [],
   "source": [
    "# Ucitali nas dataset direktno preko kerasa Ovaj dataset se zove CIFAR image dataset. I automatski smo ga raspodelili u svoje skupove\n",
    "(train_images, train_labels), (test_images, test_labels) = datasets.cifar10.load_data()\n",
    "#Opet smo radi lakse obrade podataka nase skupove koju u ovo slucaju su 32x32 u boji. Podelili smo ih sa 255.0 da bi njihove vrednosti bile [0,1]\n",
    "train_images, test_images = train_images / 255.0 , test_images / 255.0\n",
    "#Klase koji nas dataset poseduje\n",
    "class_names=[\"airplane\",\"automobile\",\"bird\",\"cat\",\"deer\",\"dog\",\"frog\",\"horse\",\"ship\",\"truck\"]"
   ]
  },
  {
   "cell_type": "code",
   "execution_count": 4,
   "metadata": {},
   "outputs": [
    {
     "data": {
      "text/plain": [
       "9"
      ]
     },
     "execution_count": 4,
     "metadata": {},
     "output_type": "execute_result"
    }
   ],
   "source": [
    "train_labels[1][0] # Vidi zasto je ovo ovde"
   ]
  },
  {
   "cell_type": "code",
   "execution_count": 5,
   "metadata": {},
   "outputs": [
    {
     "data": {
      "image/png": "[encoded data removed]",
      "text/plain": [
       "<Figure size 432x288 with 1 Axes>"
      ]
     },
     "metadata": {
      "needs_background": "light"
     },
     "output_type": "display_data"
    }
   ],
   "source": [
    "#Prikaz slike n pozicije i njen Label vrednost\n",
    "img_num = 5\n",
    "\n",
    "plt.imshow(train_images[img_num], cmap=plt.cm.binary)\n",
    "plt.xlabel(class_names[train_labels[img_num][0]])\n",
    "plt.show()"
   ]
  },
  {
   "cell_type": "code",
   "execution_count": 6,
   "metadata": {},
   "outputs": [],
   "source": [
    "model = models.Sequential() #Sekvencijalno prolazimo kroz neuralne mrezu NAS CONVULACIONI DEO\n",
    "# Prvi konvulacioni sloj sa 32 (filtera) koji su 3 x 3 velicine, AF 'relu', i input velicina 32 x 32 i 3 colour chanels RGB\n",
    "model.add(layers.Conv2D(32, (3, 3), activation=\"relu\", input_shape=(32,32,3)))\n",
    "model.add(layers.MaxPool2D((2,2))) # Uradi MAX funkciju u obliku 2x2 bez paddinga i skrati array\n",
    "model.add(layers.Conv2D(64, (3, 3), activation=\"relu\"))\n",
    "model.add(layers.MaxPool2D((2,2)))\n",
    "model.add(layers.Conv2D(64, (3, 3), activation=\"relu\"))"
   ]
  },
  {
   "cell_type": "code",
   "execution_count": 7,
   "metadata": {},
   "outputs": [
    {
     "name": "stdout",
     "output_type": "stream",
     "text": [
      "Model: \"sequential\"\n",
      "_________________________________________________________________\n",
      " Layer (type)                Output Shape              Param #   \n",
      "=================================================================\n",
      " conv2d (Conv2D)             (None, 30, 30, 32)        896       \n",
      "                                                                 \n",
      " max_pooling2d (MaxPooling2D  (None, 15, 15, 32)       0         \n",
      " )                                                               \n",
      "                                                                 \n",
      " conv2d_1 (Conv2D)           (None, 13, 13, 64)        18496     \n",
      "                                                                 \n",
      " max_pooling2d_1 (MaxPooling  (None, 6, 6, 64)         0         \n",
      " 2D)                                                             \n",
      "                                                                 \n",
      " conv2d_2 (Conv2D)           (None, 4, 4, 64)          36928     \n",
      "                                                                 \n",
      "=================================================================\n",
      "Total params: 56,320\n",
      "Trainable params: 56,320\n",
      "Non-trainable params: 0\n",
      "_________________________________________________________________\n"
     ]
    }
   ],
   "source": [
    "model.summary() # Ispisi slojene naseg modela i prikaz njegovog potencijalnog outputa"
   ]
  },
  {
   "cell_type": "code",
   "execution_count": 8,
   "metadata": {},
   "outputs": [],
   "source": [
    "model.add(layers.Flatten())\n",
    "model.add(layers.Dense(64, activation=\"relu\"))\n",
    "model.add(layers.Dense(10))"
   ]
  },
  {
   "cell_type": "code",
   "execution_count": 9,
   "metadata": {},
   "outputs": [
    {
     "name": "stdout",
     "output_type": "stream",
     "text": [
      "Model: \"sequential\"\n",
      "_________________________________________________________________\n",
      " Layer (type)                Output Shape              Param #   \n",
      "=================================================================\n",
      " conv2d (Conv2D)             (None, 30, 30, 32)        896       \n",
      "                                                                 \n",
      " max_pooling2d (MaxPooling2D  (None, 15, 15, 32)       0         \n",
      " )                                                               \n",
      "                                                                 \n",
      " conv2d_1 (Conv2D)           (None, 13, 13, 64)        18496     \n",
      "                                                                 \n",
      " max_pooling2d_1 (MaxPooling  (None, 6, 6, 64)         0         \n",
      " 2D)                                                             \n",
      "                                                                 \n",
      " conv2d_2 (Conv2D)           (None, 4, 4, 64)          36928     \n",
      "                                                                 \n",
      " flatten (Flatten)           (None, 1024)              0         \n",
      "                                                                 \n",
      " dense (Dense)               (None, 64)                65600     \n",
      "                                                                 \n",
      " dense_1 (Dense)             (None, 10)                650       \n",
      "                                                                 \n",
      "=================================================================\n",
      "Total params: 122,570\n",
      "Trainable params: 122,570\n",
      "Non-trainable params: 0\n",
      "_________________________________________________________________\n"
     ]
    }
   ],
   "source": [
    "model.summary()"
   ]
  },
  {
   "cell_type": "code",
   "execution_count": 10,
   "metadata": {},
   "outputs": [
    {
     "name": "stdout",
     "output_type": "stream",
     "text": [
      "Epoch 1/10\n",
      "1563/1563 [==============================] - 37s 24ms/step - loss: 1.5678 - accuracy: 0.4259 - val_loss: 1.2994 - val_accuracy: 0.5305\n",
      "Epoch 2/10\n",
      "1563/1563 [==============================] - 34s 21ms/step - loss: 1.1840 - accuracy: 0.5809 - val_loss: 1.0923 - val_accuracy: 0.6148\n",
      "Epoch 3/10\n",
      "1563/1563 [==============================] - 32s 20ms/step - loss: 1.0308 - accuracy: 0.6374 - val_loss: 1.0100 - val_accuracy: 0.6437\n",
      "Epoch 4/10\n",
      "1563/1563 [==============================] - 32s 21ms/step - loss: 0.9278 - accuracy: 0.6728 - val_loss: 0.9403 - val_accuracy: 0.6713\n",
      "Epoch 5/10\n",
      "1563/1563 [==============================] - 35s 22ms/step - loss: 0.8613 - accuracy: 0.6971 - val_loss: 0.9491 - val_accuracy: 0.6720\n",
      "Epoch 6/10\n",
      "1563/1563 [==============================] - 32s 21ms/step - loss: 0.7991 - accuracy: 0.7191 - val_loss: 0.9556 - val_accuracy: 0.6698\n",
      "Epoch 7/10\n",
      "1563/1563 [==============================] - 33s 21ms/step - loss: 0.7494 - accuracy: 0.7350 - val_loss: 0.9048 - val_accuracy: 0.6884\n",
      "Epoch 8/10\n",
      "1563/1563 [==============================] - 36s 23ms/step - loss: 0.7072 - accuracy: 0.7517 - val_loss: 0.9132 - val_accuracy: 0.6821\n",
      "Epoch 9/10\n",
      "1563/1563 [==============================] - 37s 24ms/step - loss: 0.6643 - accuracy: 0.7661 - val_loss: 0.9121 - val_accuracy: 0.6938\n",
      "Epoch 10/10\n",
      "1563/1563 [==============================] - 32s 20ms/step - loss: 0.6290 - accuracy: 0.7771 - val_loss: 0.8921 - val_accuracy: 0.7127\n"
     ]
    }
   ],
   "source": [
    "#Treniranje modela\n",
    "model.compile(\n",
    "    optimizer=\"adam\",\n",
    "    loss=tf.keras.losses.SparseCategoricalCrossentropy(from_logits=True),\n",
    "    metrics=[\"accuracy\"]\n",
    ")\n",
    "\n",
    "history = model.fit(train_images, train_labels, epochs=10, validation_data=(test_images, test_labels))"
   ]
  },
  {
   "cell_type": "code",
   "execution_count": 11,
   "metadata": {},
   "outputs": [
    {
     "name": "stdout",
     "output_type": "stream",
     "text": [
      "313/313 - 1s - loss: 0.8921 - accuracy: 0.7127 - 1s/epoch - 4ms/step\n",
      "0.7127000093460083\n"
     ]
    }
   ],
   "source": [
    "#Evaluacija modela\n",
    "test_loss, test_acc = model.evaluate(test_images, test_labels, verbose=2)\n",
    "print(test_acc)\n",
    "\n",
    "# U predhodnom slucaju nas evalution accuracy je bio 71 % sto nije lose za ovako nas jednostavan model"
   ]
  },
  {
   "cell_type": "code",
   "execution_count": 17,
   "metadata": {},
   "outputs": [
    {
     "name": "stdout",
     "output_type": "stream",
     "text": [
      "Predicted class: ship\n",
      "Laben: ship\n"
     ]
    },
    {
     "data": {
      "image/png": "[encoded data removed]",
      "text/plain": [
       "<Figure size 432x288 with 2 Axes>"
      ]
     },
     "metadata": {
      "needs_background": "light"
     },
     "output_type": "display_data"
    }
   ],
   "source": [
    "pic_num = 234\n",
    "\n",
    "prediction = model.predict(test_images)\n",
    "print(\"Predicted class: \" + class_names[np.argmax(prediction[pic_num])])\n",
    "print(\"Laben: \" + class_names[test_labels[pic_num][0]])\n",
    "plt.figure()\n",
    "plt.imshow(test_images[pic_num])\n",
    "plt.colorbar()\n",
    "plt.grid(False)\n",
    "plt.show()"
   ]
  },
  {
   "cell_type": "code",
   "execution_count": 23,
   "metadata": {},
   "outputs": [
    {
     "data": {
      "image/png": "[encoded data removed]",
      "text/plain": [
       "<Figure size 432x288 with 1 Axes>"
      ]
     },
     "metadata": {
      "needs_background": "light"
     },
     "output_type": "display_data"
    },
    {
     "data": {
      "image/png": "[encoded data removed]",
      "text/plain": [
       "<Figure size 432x288 with 1 Axes>"
      ]
     },
     "metadata": {
      "needs_background": "light"
     },
     "output_type": "display_data"
    },
    {
     "data": {
      "image/png": "[encoded data removed]",
      "text/plain": [
       "<Figure size 432x288 with 1 Axes>"
      ]
     },
     "metadata": {
      "needs_background": "light"
     },
     "output_type": "display_data"
    },
    {
     "data": {
      "image/png": "[encoded data removed]",
      "text/plain": [
       "<Figure size 432x288 with 1 Axes>"
      ]
     },
     "metadata": {
      "needs_background": "light"
     },
     "output_type": "display_data"
    },
    {
     "data": {
      "image/png": "[encoded data removed]",
      "text/plain": [
       "<Figure size 432x288 with 1 Axes>"
      ]
     },
     "metadata": {
      "needs_background": "light"
     },
     "output_type": "display_data"
    }
   ],
   "source": [
    "#Kao sto smo rekli malopre da bismo imali model sa visokom verovatnocom evaluacije tj accuracy, moramo\n",
    "#da imamo i neverovatno veliki dataset, skup podataka milioni i millioni, ili da koristimo neke tehnologije\n",
    "\n",
    "# SMALL DATASETS - DATA AUGMENTATION\n",
    "\n",
    "from keras.preprocessing import image\n",
    "from keras.preprocessing.image import ImageDataGenerator\n",
    "\n",
    "#Pravimo generator koji ce transformisati,augmentovati nase slike\n",
    "datagen = ImageDataGenerator(\n",
    "    rotation_range=40,\n",
    "    width_shift_range=0.2,\n",
    "    height_shift_range=0.2,\n",
    "    shear_range=0.2,\n",
    "    zoom_range=0.2,\n",
    "    horizontal_flip=True,\n",
    "    fill_mode=\"nearest\"\n",
    ")\n",
    "\n",
    "#Izaberi sliku koju ces transformisati\n",
    "test_img = train_images[20]\n",
    "img = image.img_to_array(test_img) #Konvertuje iz tensorflow dataset formate u numpy format\n",
    "img = img.reshape((1, ) + img.shape)\n",
    "\n",
    "i = 0\n",
    "\n",
    "for batch in datagen.flow(img, save_prefix=\"test\", save_format=\"jpeg\"): #Ova funkcija radi dozivotno dok je mi kroz break ne zaustavimo\n",
    "    plt.figure(i)                                                       #Cuvace slike u nas direktorijum gde smo sada\n",
    "    plot = plt.imshow(image.img_to_array(batch[0]))\n",
    "    i += 1\n",
    "    if i > 4: # Prikazi samo 4 slike\n",
    "        break  \n",
    "plt.show()"
   ]
  },
  {
   "cell_type": "code",
   "execution_count": null,
   "metadata": {},
   "outputs": [],
   "source": []
  }
 ],
 "metadata": {
  "interpreter": {
   "hash": "018610bf0173d81837d7f119329085b6b95de8057993cbd74162a07af92a39d0"
  },
  "kernelspec": {
   "display_name": "Python 3.9.4 64-bit",
   "language": "python",
   "name": "python3"
  },
  "language_info": {
   "codemirror_mode": {
    "name": "ipython",
    "version": 3
   },
   "file_extension": ".py",
   "mimetype": "text/x-python",
   "name": "python",
   "nbconvert_exporter": "python",
   "pygments_lexer": "ipython3",
   "version": "3.9.4"
  },
  "orig_nbformat": 4
 },
 "nbformat": 4,
 "nbformat_minor": 2
}
