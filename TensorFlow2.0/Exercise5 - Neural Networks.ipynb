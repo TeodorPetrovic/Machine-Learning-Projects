{
 "cells": [
  {
   "cell_type": "code",
   "execution_count": 49,
   "metadata": {},
   "outputs": [],
   "source": [
    "import tensorflow as tf\n",
    "import numpy as np\n",
    "import matplotlib.pyplot as plt\n",
    "import keras"
   ]
  },
  {
   "cell_type": "markdown",
   "metadata": {},
   "source": [
    "MNIST Fashion Dataset nalazi se zajedno sa keras bibliotekom tako da mozemo direktno da ga procitamo\n",
    "ima 60 000 slika za trening i 10 000 slika za test"
   ]
  },
  {
   "cell_type": "code",
   "execution_count": 50,
   "metadata": {},
   "outputs": [],
   "source": [
    "fashion_minst = keras.datasets.fashion_mnist # Ucitavamo dataset\n",
    "\n",
    "(train_images, train_labels), (test_images, test_labels) = fashion_minst.load_data() #Automatski rasporedjujemo dataset u trenig i test skupove"
   ]
  },
  {
   "cell_type": "code",
   "execution_count": 51,
   "metadata": {},
   "outputs": [
    {
     "data": {
      "text/plain": [
       "(60000, 28, 28)"
      ]
     },
     "execution_count": 51,
     "metadata": {},
     "output_type": "execute_result"
    }
   ],
   "source": [
    "train_images.shape # Imamo 60 000 slika, koje imaju 28 sa 28 pixela\n",
    "#type(train_images) #koji je tip promenjlive"
   ]
  },
  {
   "cell_type": "code",
   "execution_count": 52,
   "metadata": {},
   "outputs": [
    {
     "data": {
      "text/plain": [
       "194"
      ]
     },
     "execution_count": 52,
     "metadata": {},
     "output_type": "execute_result"
    }
   ],
   "source": [
    "train_images[0,23,23] #Uzmi sliku 0 i daj vrednost pixela na redu 23 i koloni 23. U nasem slucaju ove slike su Greyscale tj 0 Crna 254 Bela"
   ]
  },
  {
   "cell_type": "code",
   "execution_count": 53,
   "metadata": {},
   "outputs": [
    {
     "data": {
      "text/plain": [
       "array([9, 0, 0, 3, 0, 2, 7, 2, 5, 5], dtype=uint8)"
      ]
     },
     "execution_count": 53,
     "metadata": {},
     "output_type": "execute_result"
    }
   ],
   "source": [
    "train_labels[:10] # U nasem slucaju nas label ima vrednosti od 0-9. Tj. svaki broj predstavlja jednu vrstu odece"
   ]
  },
  {
   "cell_type": "code",
   "execution_count": 54,
   "metadata": {},
   "outputs": [],
   "source": [
    "# Ovo su te klase koje odgovaraju na predhodne brojeve\n",
    "class_names=[\"T-shirt/top\",\"Trouser\",\"Pullover\",\"Dress\",\"Coat\",\"Sandal\",\"Shirt\",\"Sneaker\",\"Bag\",\"Ankle boot\"]"
   ]
  },
  {
   "cell_type": "code",
   "execution_count": 55,
   "metadata": {},
   "outputs": [
    {
     "data": {
      "image/png": "[encoded data removed]",
      "text/plain": [
       "<Figure size 432x288 with 2 Axes>"
      ]
     },
     "metadata": {
      "needs_background": "light"
     },
     "output_type": "display_data"
    }
   ],
   "source": [
    "plt.figure() # Kreiraj figuru\n",
    "plt.imshow(train_images[5]) # Prikazivanje slike\n",
    "plt.colorbar() # legenda sa strane sa nivoom boja\n",
    "plt.grid(False) # da li je grid prikazan, po default je False\n",
    "plt.show()"
   ]
  },
  {
   "cell_type": "code",
   "execution_count": 56,
   "metadata": {},
   "outputs": [],
   "source": [
    "# Obradjujemo podatke radi lakse obrade podataka prilikom treninga u nasem slucaju\n",
    "#Grayscale boja varira od 0 do 255, znaci delimo sve sa 255, da bi nase vrednosti \n",
    "#posle bile izmedju 0 i 1. Ovo je zeljeni cilj za vecinu neural networks\n",
    "train_images = train_images / 255.0\n",
    "test_images = test_images / 255.0"
   ]
  },
  {
   "cell_type": "code",
   "execution_count": 57,
   "metadata": {},
   "outputs": [],
   "source": [
    "model = keras.Sequential([                       # Informacije Sekvencijalno prolazi kroz NN, nije rekurzivna\n",
    "    keras.layers.Flatten(input_shape=(28,28)),   # 1 Layer, prvi sloj, Input Layer, Koristimo Flatten da bi nasu sliku koja je 28 x 28 pretvorili u 1 x 784\n",
    "    keras.layers.Dense(128, activation=\"relu\"),  # 2 Layer, drugi sloj, Hidden Layer,128 noda Koristimo Dense svaki node je konektovan na svaki sledeci, i AF je relu\n",
    "    keras.layers.Dense(10, activation=\"softmax\") # 3 Layer, treci sloj, Output Layer, 10 noda jer imamo samo 10 clasa, AF je softmax tj. zbih rezultata outputa ce uvek biti 1\n",
    "])                                               # Npr. rezultat NN ce biti 10 vrednosti izmedju 1 i 0, gde ako se one saberu taj zbir ce biti jednak 1"
   ]
  },
  {
   "cell_type": "code",
   "execution_count": 58,
   "metadata": {},
   "outputs": [],
   "source": [
    "# Posle pravljenja modela moramo da napravimo i optimizator naseg modela\n",
    "model.compile(\n",
    "    optimizer=\"adam\", # Optimizator koji radi Gradient Desent\n",
    "    loss=\"sparse_categorical_crossentropy\", # Loss koji ce koristiti GD da optimizuje model\n",
    "    metrics=[\"accuracy\"] # Na osnovu cega ce vrsiti optimizaciju\n",
    ")"
   ]
  },
  {
   "cell_type": "code",
   "execution_count": 59,
   "metadata": {},
   "outputs": [
    {
     "data": {
      "text/plain": [
       "(60000, 28, 28)"
      ]
     },
     "execution_count": 59,
     "metadata": {},
     "output_type": "execute_result"
    }
   ],
   "source": [
    "train_images.shape"
   ]
  },
  {
   "cell_type": "code",
   "execution_count": 60,
   "metadata": {},
   "outputs": [
    {
     "name": "stdout",
     "output_type": "stream",
     "text": [
      "1875/1875 [==============================] - 3s 1ms/step - loss: 0.5025 - accuracy: 0.8236\n"
     ]
    },
    {
     "data": {
      "text/plain": [
       "<keras.callbacks.History at 0x1f1ba3e13a0>"
      ]
     },
     "execution_count": 60,
     "metadata": {},
     "output_type": "execute_result"
    }
   ],
   "source": [
    "model.fit(train_images, train_labels, epochs=1) # Ovde treniramo model tj Fit-ujemo ga. Ovde nema input function jer keras to automatski radi za nas"
   ]
  },
  {
   "cell_type": "markdown",
   "metadata": {},
   "source": [
    "Ovde smo dobili koliki je nas Accuracy na trening skupu ali nama treab accuracy na test skupu"
   ]
  },
  {
   "cell_type": "code",
   "execution_count": 61,
   "metadata": {},
   "outputs": [
    {
     "name": "stdout",
     "output_type": "stream",
     "text": [
      "313/313 [==============================] - 0s 981us/step - loss: 0.4307 - accuracy: 0.8449\n",
      "Test Accuracy:  0.8449000120162964\n"
     ]
    }
   ],
   "source": [
    "test_loss, test_acc = model.evaluate(test_images, test_labels, verbose=1)\n",
    "print(\"Test Accuracy: \", test_acc)"
   ]
  },
  {
   "cell_type": "code",
   "execution_count": 62,
   "metadata": {},
   "outputs": [],
   "source": [
    "#Posto je ovde Acc 0.88 a u trenigu je bio 0.90 to znaci da je nas model Overfitted, tj. model \n",
    "#model je vidjao vise istih slika i postao bolji ne u pronalazenju bilo kojih slika nego samo tih\n",
    "#nekoliko slika"
   ]
  },
  {
   "cell_type": "code",
   "execution_count": 67,
   "metadata": {},
   "outputs": [
    {
     "name": "stdout",
     "output_type": "stream",
     "text": [
      "Predicted class: Trouser\n",
      "Laben: Trouser\n"
     ]
    },
    {
     "data": {
      "image/png": "[encoded data removed]",
      "text/plain": [
       "<Figure size 432x288 with 2 Axes>"
      ]
     },
     "metadata": {
      "needs_background": "light"
     },
     "output_type": "display_data"
    }
   ],
   "source": [
    "#Sada kata smo istrenirali nas model treba da uradimo neku predikciju\n",
    "pic_num = 5\n",
    "\n",
    "prediction = model.predict(test_images)\n",
    "print(\"Predicted class: \" + class_names[np.argmax(prediction[pic_num])])\n",
    "print(\"Laben: \" + class_names[test_labels[pic_num]])\n",
    "plt.figure()\n",
    "plt.imshow(test_images[pic_num])\n",
    "plt.colorbar()\n",
    "plt.grid(False)\n",
    "plt.show()"
   ]
  },
  {
   "cell_type": "code",
   "execution_count": 64,
   "metadata": {},
   "outputs": [
    {
     "data": {
      "image/png": "[encoded data removed]",
      "text/plain": [
       "<Figure size 432x288 with 2 Axes>"
      ]
     },
     "metadata": {
      "needs_background": "light"
     },
     "output_type": "display_data"
    }
   ],
   "source": [
    "COLOR = 'white'\n",
    "plt.rcParams['text.color'] = COLOR\n",
    "plt.rcParams['axes.labelcolor'] = COLOR\n",
    "\n",
    "def predict(model, image, correct_label):\n",
    "  class_names = ['T-shirt/top', 'Trouser', 'Pullover', 'Dress', 'Coat',\n",
    "               'Sandal', 'Shirt', 'Sneaker', 'Bag', 'Ankle boot']\n",
    "  prediction = model.predict(np.array([image]))\n",
    "  predicted_class = class_names[np.argmax(prediction)]\n",
    "\n",
    "  show_image(image, class_names[correct_label], predicted_class)\n",
    "\n",
    "\n",
    "def show_image(img, label, guess):\n",
    "  plt.figure()\n",
    "  plt.imshow(img, cmap=plt.cm.binary)\n",
    "  plt.title(\"Excpected: \" + label)\n",
    "  plt.xlabel(\"Guess: \" + guess)\n",
    "  plt.colorbar()\n",
    "  plt.grid(False)\n",
    "  plt.show()\n",
    "\n",
    "\n",
    "def get_number():\n",
    "  while True:\n",
    "    num = input(\"Pick a number: \")\n",
    "    if num.isdigit():\n",
    "      num = int(num)\n",
    "      if 0 <= num <= 1000:\n",
    "        return int(num)\n",
    "    else:\n",
    "      print(\"Try again...\")\n",
    "\n",
    "num = get_number()\n",
    "image = test_images[num]\n",
    "label = test_labels[num]\n",
    "predict(model, image, label)\n"
   ]
  }
 ],
 "metadata": {
  "interpreter": {
   "hash": "018610bf0173d81837d7f119329085b6b95de8057993cbd74162a07af92a39d0"
  },
  "kernelspec": {
   "display_name": "Python 3.9.4 64-bit",
   "language": "python",
   "name": "python3"
  },
  "language_info": {
   "codemirror_mode": {
    "name": "ipython",
    "version": 3
   },
   "file_extension": ".py",
   "mimetype": "text/x-python",
   "name": "python",
   "nbconvert_exporter": "python",
   "pygments_lexer": "ipython3",
   "version": "3.9.4"
  },
  "orig_nbformat": 4
 },
 "nbformat": 4,
 "nbformat_minor": 2
}
